{
 "cells": [
  {
   "cell_type": "markdown",
   "metadata": {
    "colab_type": "text",
    "id": "vo9s2JTuifkO"
   },
   "source": [
    "# ***Question And Answering***\n",
    "![alt text](https://miro.medium.com/max/1206/1*1LzDyOaDaDrIDu9hksV35Q.jpeg)"
   ]
  },
  {
   "cell_type": "markdown",
   "metadata": {
    "colab_type": "text",
    "id": "G5b0IpRITWZ-"
   },
   "source": [
    "**Question answering** (QA) is a computer science discipline within the fields of information retrieval and natural language processing (NLP), which is concerned with building systems that automatically answer questions posed by humans in a natural language."
   ]
  },
  {
   "cell_type": "markdown",
   "metadata": {
    "colab_type": "text",
    "id": "EE_KRPCIj9xK"
   },
   "source": [
    "## Introduction"
   ]
  },
  {
   "cell_type": "markdown",
   "metadata": {
    "colab_type": "text",
    "id": "xV8_09mbkNHA"
   },
   "source": [
    "This notebook goes through a necessary step for NLP Question And Answering project.\n",
    "Data cleaning is a time consuming and unenjoyable task, yet it's a very important one. Keep in mind, \"garbage in, garbage out\". Feeding dirty data into a model will give us results that are meaningless.\n",
    "\n",
    "Specifically, we'll be walking through:\n",
    "\n",
    "1. **Getting the data - **in this case, we'll be scraping data from a website.\n",
    "2. **Organizing the data - **we will organize the cleaned data into a way that is easy to input into other algorithms and prepare Corpus.\n",
    "3. **Answer Questions from data - ** Try to answers any question's that related from the data.\n",
    "\n",
    "\n",
    "> **Corpus** - a collection of text\n",
    "\n",
    "The output of this notebook will be clean, organized data in two standard text formats:\n"
   ]
  },
  {
   "cell_type": "markdown",
   "metadata": {
    "colab_type": "text",
    "id": "ApdAS_XGnO85"
   },
   "source": [
    "As a reminder, our goal is to look at transcripts of various tourism in Ethiopia and we gone scraping sample data from offical website \"www.ethiopiaonlinevisa.com\". Prepare **Courpus** from the data and try to answer questions from Courpus."
   ]
  },
  {
   "cell_type": "markdown",
   "metadata": {
    "colab_type": "text",
    "id": "0EV0WgU0qrht"
   },
   "source": [
    "\n",
    "\n",
    "---\n",
    "# **Phase One:** Getting the data"
   ]
  },
  {
   "cell_type": "markdown",
   "metadata": {
    "colab_type": "text",
    "id": "yX0EHpe-lHLi"
   },
   "source": [
    "Essential Libraries in Python\n",
    "\n",
    "> **Requests** is a Python HTTP library to make HTTP requests.\n",
    "\n",
    "> **lxml** is a Python library which allows for easy handling of XML and HTML files, and can also be used for web scraping.\n",
    "\n",
    "> **Beautiful Soup** is a Python library for pulling data out of HTML and XML files.\n",
    "\n",
    "> **Pickle** in Python is primarily used in serializing and deserializing a Python object structure. In other words, it's the process of converting a Python object into a byte stream to store it in a file/database, maintain program state across sessions, or transport data over the network.\n",
    "\n"
   ]
  },
  {
   "cell_type": "code",
   "execution_count": 0,
   "metadata": {
    "colab": {},
    "colab_type": "code",
    "id": "uIn-ainctZNW"
   },
   "outputs": [],
   "source": [
    "# pip install requests\n",
    "# pip install beautifulsoup4\n",
    "# pip install pickle\n",
    "# pip install lxml"
   ]
  },
  {
   "cell_type": "code",
   "execution_count": 0,
   "metadata": {
    "colab": {},
    "colab_type": "code",
    "id": "FLSjdu-gd0VE"
   },
   "outputs": [],
   "source": [
    "import requests\n",
    "from bs4 import BeautifulSoup\n",
    "import pickle\n",
    "\n",
    "# Scrapes transcript data from www.ethiopiaonlinevisa.com\n",
    "def url_to_transcript(url):\n",
    "    '''Returns transcript data specifically from www.ethiopiaonlinevisa.com'''\n",
    "    page = requests.get(url).text\n",
    "    soup = BeautifulSoup(page, \"lxml\")\n",
    "    text = [p.text for p in soup.find(class_=\"col-lg-9 col-md-8\").find_all('p')]\n",
    "    print(url)\n",
    "    return text\n",
    "\n",
    "\n",
    "# URLs of transcripts in scope\n",
    "urls = ['https://www.ethiopiaonlinevisa.com/simien-mountains/',\n",
    "        'https://www.ethiopiaonlinevisa.com/ethiopia-travel-advice-safety-security/',\n",
    "        'https://www.ethiopiaonlinevisa.com/tourism-grows-ethiopia-evisa/',\n",
    "        'https://www.ethiopiaonlinevisa.com/danakil-depression/',\n",
    "        'https://www.ethiopiaonlinevisa.com/churches-lalibela-ethiopia-holy-city/',\n",
    "        'https://www.ethiopiaonlinevisa.com/ecotourism-in-ethiopia/',\n",
    "        'https://www.ethiopiaonlinevisa.com/omo-valley-ancient-tribes/',\n",
    "        'https://www.ethiopiaonlinevisa.com/gondar-tourist-attractions-history/',\n",
    "        'https://www.ethiopiaonlinevisa.com/axum-ethiopia/',\n",
    "        'https://www.ethiopiaonlinevisa.com/addis-ababa-capital-largest-city-ethiopia/',\n",
    "        'https://www.ethiopiaonlinevisa.com/ethiopia-world-heritage-attractions/',\n",
    "        'https://www.ethiopiaonlinevisa.com/best-time-to-visit-ethiopia/',\n",
    "        'https://www.ethiopiaonlinevisa.com/ethiopian-calendar/',\n",
    "        'https://www.ethiopiaonlinevisa.com/amharic-the-ethiopian-language/']\n",
    "\n",
    "# title names\n",
    "title = ['simien', 'security', 'visa', 'danakil', 'lalibela', 'ecotourism', 'omo', 'gondar', 'axum', 'addis', 'attractions', 'best-time', 'etcalendar', 'amharic']\n"
   ]
  },
  {
   "cell_type": "code",
   "execution_count": 12,
   "metadata": {
    "colab": {
     "base_uri": "https://localhost:8080/",
     "height": 255
    },
    "colab_type": "code",
    "collapsed": true,
    "id": "ldrZsjzcd0VN",
    "outputId": "141c72ec-096e-4663-ae75-611d3bf793a8"
   },
   "outputs": [
    {
     "name": "stdout",
     "output_type": "stream",
     "text": [
      "https://www.ethiopiaonlinevisa.com/simien-mountains/\n",
      "https://www.ethiopiaonlinevisa.com/ethiopia-travel-advice-safety-security/\n",
      "https://www.ethiopiaonlinevisa.com/tourism-grows-ethiopia-evisa/\n",
      "https://www.ethiopiaonlinevisa.com/danakil-depression/\n",
      "https://www.ethiopiaonlinevisa.com/churches-lalibela-ethiopia-holy-city/\n",
      "https://www.ethiopiaonlinevisa.com/ecotourism-in-ethiopia/\n",
      "https://www.ethiopiaonlinevisa.com/omo-valley-ancient-tribes/\n",
      "https://www.ethiopiaonlinevisa.com/gondar-tourist-attractions-history/\n",
      "https://www.ethiopiaonlinevisa.com/axum-ethiopia/\n",
      "https://www.ethiopiaonlinevisa.com/addis-ababa-capital-largest-city-ethiopia/\n",
      "https://www.ethiopiaonlinevisa.com/ethiopia-world-heritage-attractions/\n",
      "https://www.ethiopiaonlinevisa.com/best-time-to-visit-ethiopia/\n",
      "https://www.ethiopiaonlinevisa.com/ethiopian-calendar/\n",
      "https://www.ethiopiaonlinevisa.com/amharic-the-ethiopian-language/\n"
     ]
    }
   ],
   "source": [
    "# # Actually request transcripts (needs internet connection to run)\n",
    "import lxml\n",
    "transcripts = [url_to_transcript(u) for u in urls]"
   ]
  },
  {
   "cell_type": "code",
   "execution_count": 0,
   "metadata": {
    "colab": {},
    "colab_type": "code",
    "id": "BRUUeLD1Sc8x"
   },
   "outputs": [],
   "source": [
    "#just incase we use colab\n",
    "#   from google.colab import drive\n",
    "#   drive.mount('/content/drive')"
   ]
  },
  {
   "cell_type": "code",
   "execution_count": 13,
   "metadata": {
    "colab": {
     "base_uri": "https://localhost:8080/",
     "height": 68
    },
    "colab_type": "code",
    "id": "neNmzaLojEC7",
    "outputId": "fd616a18-72a8-4f54-fc39-12f1950523bc"
   },
   "outputs": [
    {
     "name": "stdout",
     "output_type": "stream",
     "text": [
      "The current working directory is /content\n",
      "The current working directory is /content\n",
      "Directory name is : content\n"
     ]
    }
   ],
   "source": [
    "# import the os module\n",
    "import os\n",
    " \n",
    "# detect the current working directory and print it\n",
    "dirpath = os.getcwd()\n",
    "print (\"The current working directory is %s\" % dirpath)\n",
    "print(\"The current working directory is \" + dirpath)\n",
    "\n",
    "foldername = os.path.basename(dirpath)\n",
    "print(\"Directory name is : \" + foldername)"
   ]
  },
  {
   "cell_type": "code",
   "execution_count": 14,
   "metadata": {
    "colab": {
     "base_uri": "https://localhost:8080/",
     "height": 34
    },
    "colab_type": "code",
    "id": "4GKXebQCf5Qg",
    "outputId": "7b7705c9-1382-45c5-a9c8-c6d03a22687a"
   },
   "outputs": [
    {
     "name": "stdout",
     "output_type": "stream",
     "text": [
      "Successfully created the directory /sample_data \n"
     ]
    }
   ],
   "source": [
    "# !mkdir name sample_data \n",
    "import os\n",
    "# define the name of the directory to be created\n",
    "path = \"/sample_data\"\n",
    "try:\n",
    "    os.mkdir(path)\n",
    "except OSError:\n",
    "    print (\"Creation of the directory %s failed\" % path)\n",
    "else:\n",
    "    print (\"Successfully created the directory %s \" % path)"
   ]
  },
  {
   "cell_type": "code",
   "execution_count": 0,
   "metadata": {
    "colab": {},
    "colab_type": "code",
    "id": "_8_2FNe1d0VQ"
   },
   "outputs": [],
   "source": [
    "# # Pickle files for later use\n",
    "\n",
    "# Use sample_data directory to hold the text files\n",
    "\n",
    "for i, c in enumerate(title):\n",
    "    with open(\"sample_data/\" + c + \".txt\", \"wb\") as file:\n",
    "        pickle.dump(transcripts[i], file)"
   ]
  },
  {
   "cell_type": "code",
   "execution_count": 0,
   "metadata": {
    "colab": {},
    "colab_type": "code",
    "id": "LBi72Cdud0VS"
   },
   "outputs": [],
   "source": [
    "# Load pickled files\n",
    "data = {}\n",
    "for i, c in enumerate(title):\n",
    "    with open(\"sample_data/\" + c + \".txt\", \"rb\") as file:\n",
    "        data[c] = pickle.load(file)"
   ]
  },
  {
   "cell_type": "code",
   "execution_count": 18,
   "metadata": {
    "colab": {
     "base_uri": "https://localhost:8080/",
     "height": 54
    },
    "colab_type": "code",
    "id": "z5DQCGCLd0VV",
    "outputId": "cd25fb00-b44d-4b70-bc70-fec0c8454be2"
   },
   "outputs": [
    {
     "data": {
      "text/plain": [
       "dict_keys(['simien', 'security', 'visa', 'danakil', 'lalibela', 'ecotourism', 'omo', 'gondar', 'axum', 'addis', 'attractions', 'best-time', 'etcalendar', 'amharic'])"
      ]
     },
     "execution_count": 18,
     "metadata": {
      "tags": []
     },
     "output_type": "execute_result"
    }
   ],
   "source": [
    "# Double check to make sure data has been loaded properly\n",
    "data.keys()"
   ]
  },
  {
   "cell_type": "code",
   "execution_count": 19,
   "metadata": {
    "colab": {
     "base_uri": "https://localhost:8080/",
     "height": 241
    },
    "colab_type": "code",
    "id": "jwWHN4a1d0VX",
    "outputId": "eaa826e6-ab91-472c-b3b7-b397f683db4a"
   },
   "outputs": [
    {
     "data": {
      "text/plain": [
       "['There is an incredible amount of things do do in Addis Ababa. Ethiopia’s exciting capital city is not just one of the most vibrant and eclectic cities in the country, it is often referred to as the capital of Africa.',\n",
       " 'Its name translates to “new flower” in the Amharic language which reflects its youthful, lively charm and personality. Set in the breathtaking Ethiopian highlands, Addis Ababa is 2,665 meters above sea level, which makes the weather a little cool but very pleasant. Visitors can enjoy the city at any time of the year.',\n",
       " 'Planning a trip to Ethiopia’s capital can be overwhelming as there is so much to see. To help you plan your trip, we’ve compiled a list of the most interesting things to see in Addis Ababa.',\n",
       " 'There is an exciting range of fascinating things to do in Addis Ababa including churches, markets, and fascinating museums. You can also find some of the world’s best coffee and \\xa0mouthwatering range of local and international restaurants and food stalls.',\n",
       " 'Mercato is the biggest outdoor market in Africa. It’s vast and you can find anything there, including some stunning artisan, handmade crafts, a sensational range of spices, and some absolute bargains. 90 tribes of Ethiopia are represented at the market which makes the experience even more fascinating.',\n",
       " 'Mount Entoto offers jaw dropping, panoramic views of Addis Ababa’s magnificent scenery. It’s 3,200 meters above sea level the eucalyptus tree forest makes it perfect for hiking. There are also two of the country’s oldest churches there: St. Raguel (Elias) and St. Mary of Entoto.',\n",
       " '',\n",
       " 'Medhane Alem is the biggest church in Addis Ababa (and the second largest cathedral in Africa!). Its name means “Saviour of the World” and the building itself is fairly modern. The white and yellow structure has some beautiful domes and the colorful interior features frescoes of saints and stained glass windows.',\n",
       " 'St. George’s Cathedral is the most iconic place of worship in Addis Ababa. It’s set on the top of a hill and is famous for its stunning stained glass windows and its grand imperial throne. There is also a museum just a short stroll away which is filled with paintings of scenes from the Bible and from Ethiopian history.',\n",
       " '',\n",
       " 'Many visitors say the National Museum of Ethiopia is one of the best museums in the country and one of the best things to do in Addis Ababa. The museum contains thousands of items and there is a fantastic range of displays. Some of the highlights include the statues of Axum, the model of “Lucy”, and remains of the very early humans.',\n",
       " 'Meskel Square is the capital’s main meeting point. There are regular events which are popular with both visitors and locals and there are a few museums there which are worth a visit. One of them is the Red Terror Martyrs Memorial Museum which documents the violent period of suffering in the 1970s.']"
      ]
     },
     "execution_count": 19,
     "metadata": {
      "tags": []
     },
     "output_type": "execute_result"
    }
   ],
   "source": [
    "# More checks\n",
    "data['addis']"
   ]
  },
  {
   "cell_type": "markdown",
   "metadata": {
    "colab_type": "text",
    "id": "6ox0SOJuusZ7"
   },
   "source": [
    "\n",
    "---\n",
    "# **Phase Two:** Organizing the data\n"
   ]
  },
  {
   "cell_type": "code",
   "execution_count": 0,
   "metadata": {
    "colab": {},
    "colab_type": "code",
    "id": "g3z93dUTVCm8"
   },
   "outputs": [],
   "source": [
    "#Concatenate all scraping data from a website.\n",
    "metadata = data['simien']+data['security']+data['visa']+data['danakil']+data['amharic']+\\\n",
    "           data['lalibela']+data['ecotourism']+data['best-time']+data['etcalendar']+\\\n",
    "           data['omo']+data['gondar']+data['axum']+data['addis']+data['attractions']\n",
    "\n"
   ]
  },
  {
   "cell_type": "code",
   "execution_count": 21,
   "metadata": {
    "colab": {
     "base_uri": "https://localhost:8080/",
     "height": 1000
    },
    "colab_type": "code",
    "id": "GMbPWtVxXBRp",
    "outputId": "297503df-0d76-4aaa-de80-6ccadced658f"
   },
   "outputs": [
    {
     "data": {
      "text/plain": [
       "['Simien Mountains National Park is a dramatic wilderness in the north of Ethiopia. Its jagged landscape, complete with soaring peaks and hidden valleys, is home to alien flowers and rare creatures. It is the perfect adventure for visitors who love trekking, nature, and stunning views.',\n",
       " 'Read on to discover the best things to see at this UNESCO World Heritage Site, how to get there, and where to stay.',\n",
       " 'The Simien Mountains (also spelled Semien mountains) are located in the Ethiopian Highlands, often referred to as “the Roof of Africa”. The highest point in the country is the mountain Ras Dashen at 4,550 m, found within the park.',\n",
       " 'Simien Mountains National Park is located close to the town of Debark, where the park headquarters and main entry point can be found.',\n",
       " 'Debark is on the main road between the historic cities of Gondar and Axum, within a few hours’ drive of each. There are also buses that run between these two cities that stop at Debark.',\n",
       " 'Simien Mountain National Park is like nowhere else on earth. The volcanic rock of the Ethiopian plateau has been eroded by the forces of nature over millions of years to create a maze of rocky peaks and ravines. This unique environment is home to equally unique flora and fauna. These inhabitants and the scenery are the biggest draws for visitors.',\n",
       " 'The best way to see the park is to go on an organized trek from Debark.',\n",
       " 'The Simien Mountains region has diverse terrain. Travelers trekking out from Debark will first pass through eucalyptus groves and highland pastures in the steep-sided valleys. From there on, there are sheer cliffs, cascading waterfalls, and escarpments offering incredible views over the lowlands.',\n",
       " 'Overlooking it all is the imposing peak of Ras Dashen. Important things to know about this mountain include:',\n",
       " 'Anyone can attempt the climb, but it is only recommended for serious trekkers.',\n",
       " 'There are many shorter treks available for travelers who would rather not make the climb and the view of the mountain itself can still be enjoyed by all.',\n",
       " 'Simien Mountain National Park is home to a number of rare plants and animals, some of which are endemic to the region (i.e. they cannot be found anywhere else). Lucky travelers can spot the following:',\n",
       " 'Other animals native to the Simien Mountains include:',\n",
       " 'Most international travelers arrive by airplane to the capital city of Addis Ababa. From here, domestic flights can be taken to Gondar or Aksum, from which the Simien Mountains can be reached by road.',\n",
       " 'The first step to visiting Simien Mountains is to obtain the correct documentation to enter Ethiopia. For most nationalities, this means applying for an Ethiopia eVisa.',\n",
       " 'The Ethiopian eVisa is the quickest and easiest way to get your application processed. Before applying, it is best to check that you meet the requirements for an Ethiopia online visa.',\n",
       " 'Once you have arrived in northern Ethiopia, the following information is very useful for organizing your visit to Simien Mountains National Park.',\n",
       " 'The national park is open 8.30 am–8.30 pm from Monday to Friday and 8.30 am–12.00 pm at the weekend.',\n",
       " 'Visitors must first go to the National Park Office in south Debark, where they can obtain permits to enter the park. Visitors are not permitted in Simien Mountains National Park without a trained scout, whose instructions must be followed while in the park. A scout can be hired at the park office.',\n",
       " 'Travelers who want a more in-depth tour of Simien Mountains National Park can also hire an official guide.',\n",
       " 'The entrance fee for foreigners is 90 birr (US$2.94), with an extra 40 birr (US$1.32) for each day of camping. The scout’s fee is 150 birr (US$4.91) per day.',\n",
       " 'The total cost of trekking in the Simien Mountains can vary, depending on what you want. Optional extras include:',\n",
       " 'There are 2 hotels in the nearby town of Debark, which are aimed specifically at visitors to Simien Mountains National Park:',\n",
       " 'Visitors may also choose to stay in Gondar to take advantage of its tourist attractions and history and drive up to the national park.',\n",
       " 'While trekking through the park, many visitors choose to camp. However, there are also lodges in the Simien Mountains offering basic accommodation scattered throughout the park for travelers who don’t mind paying a bit more for a real roof over their heads. The Simien Lodge, which advertises itself as “the highest hotel in Africa” is one such example.',\n",
       " 'Before staying in the wilds of Simien Mountains National Park, visitors should make sure they have had all the vaccines needed to travel to Ethiopia.',\n",
       " 'As tourism grows in Ethiopia and more and more international travelers are attracted to the African nation because of its natural wonders and archaeological sites, Ethiopia is experiencing the largest tourism economy growth in the world.\\xa0',\n",
       " 'And it’s not by chance. The government has implemented a series of measures to make the country more welcoming and accommodating for foreigners — including the online visa that can be applied for online in just a few minutes.',\n",
       " 'Many decide to come to Ethiopia traveling solo, others bring their families or partner along. Either way, international tourists always worry about safety and security before making any travel plans.',\n",
       " 'On this page, you’ll find important information for tourists regarding:',\n",
       " 'Whether they apply for an Ethiopian visa for a 5-star experience in a luxury resort, trekking in the Ethiopian nature, or volunteering during their holidays, the number 1 priority of tourists is and always should be safety.',\n",
       " 'Ethiopia is overall a very safe country, in fact, one of the safest in the area. Violent and serious crime rates are much lower than in neighboring countries and these offences are extremely rarely committed against foreigners.',\n",
       " 'Even petty crime like pickpocketing and scams against tourists are very rare outside the capital Addis Ababa and can be easily avoided by taking standard safety measures.',\n",
       " 'Ethiopia is politically stable — it’s very unlikely that you will witness protests or civil unrest. In general, there are just a few remote regions that may experience the occasional trouble, and these are far from the areas frequented by tourists. Areas that you might want to avoid are border regions and the Ogaden region.',\n",
       " 'Again, international travelers usually spend time in Ethiopia without an issue. The following are annoyances that some tourists may experience, but that are also decreasing in frequency:',\n",
       " 'Female tourists usually feel safe on Ethiopian streets, even when traveling alone. Foreigners usually have no issues walking alone (even in the evening) and taking public transport.',\n",
       " 'Solo Western travelers may attract the attention of local young men, who usually try to start a conversation with them by calling them ‘sister’. However, they easily desist and the best way to avoid the annoyance is just to ignore them.',\n",
       " 'Ethiopian women in the capital and major urban centers wear all sorts of clothing. You’ll find designer and catwalk clothes alongside traditional Ethiopian dresses and it will be pretty easy to blend in.',\n",
       " 'In rural areas, the dress code tends to be more conservative and it may be preferable to wear knee-length skirts to avoid unwanted attention.',\n",
       " 'There’s no specific travel advice for tourists visiting Ethiopia that doesn’t apply to other tourist destinations too. In general, try to follow common sense and by just taking a few steps, you’ll be able to enjoy your Ethiopian holiday hassle-free.',\n",
       " 'Here is the Ethiopia travel advice issued by the US Department of State:',\n",
       " 'Traveling to Ethiopia has taken a much easier turn since 2017, when the Ethiopia electronic visa program was introduced for the first time. The new electronic visa system made obtaining a permit to enter the country quick and easy for international travelers.',\n",
       " 'Eligible foreigners can apply for a visa for Ethiopia entirely online, all they need is access to a reliable internet connection and to a device to go online. After filling out the application form and attaching relevant documents, they will receive their approved Ethiopian visa via email. This removes the need to visit an Ethiopian embassy or consulate in person in order to get a tourist visa.',\n",
       " 'Intended to facilitate border check and encourage international tourism, the Ethiopian eVisa system was a success and the country has seen a boost in the number of foreign visitors choosing Ethiopia as their holiday destination.',\n",
       " 'The number of foreign tourists visiting Ethiopia in the year 2016-2017 was reported to be 871,000, an impressive surge from previous years. Yet the Ethiopian Ministry of Tourism and Culture expects this to increase even further and predicts that there will be 2.5 million arrivals per year by 2020.',\n",
       " 'In 2018, the Ethiopian Travel and Tourism economy grew by 48.6%. This is impressive growth — in fact, the largest in the world according to the World Travel & Tourism Council (WTTC) whose annual review calculates the financial and social impact of tourism.',\n",
       " 'The improvement in the travel experience caused by the new eVisa played a big role in this surge. Speaking in Accra, Ethiopian Airlines stated that more than 200,000 tourists used the eVisa system to obtain a travel authorization.',\n",
       " 'Ethiopian Airlines Group CEO Tewolde Gebre Mariam commented: “The milestone in the number of travelers who visited Ethiopia through the e-visa service comes as good news to all of us in the tourism and travel industry.”',\n",
       " 'He continued: “The milestone is indicative of the fact that the number of visitors who use the digitized service is on the rise. This will bring more benefits to Ethiopia in terms of facilitating travel and promoting tourism, trade, and investment to the country.”',\n",
       " 'Foreign nationals of a great number of countries can apply for the eVisa. The visa requirements are easy to understand and designed to make the process smooth and fast. Completing a eVisa application for Ethiopia only takes minutes.',\n",
       " 'Once the application is submitted, the Ethiopian authorities will assess the request within hours. The applicant will then find their visa in their inbox at the email address provided in the application form. In rare cases, some travelers may experience delays — this usually happens when there is missing information in their online form or the Ethiopian authorities require further documentation due to the applicant’s specific circumstances.',\n",
       " 'There are countless reasons why one should consider Ethiopia as their next destination. With a total of 9 UNESCO World Heritage Sites, Ethiopia is a land of great archaeological interest that will make for unforgettable memories for all those who enjoy cultural traveling.',\n",
       " 'Ethiopia is also ideal for those who love nature. Its breath-taking landscapes offer stark contrast that are hard to find elsewhere, from the arid flatlands of Omo Valley to the peaks of the Simien Mountains. In fact, more than 70% of Africa’s mountains are in Ethiopia, a paradise for hikers and those who enjoy active holidays.',\n",
       " 'It’s a fact well known that Africa is one of the richest continents in the world for biodiversity. In Ethiopia, you’ll be able to observe rare animals in the wild — from the Gelada baboon to the Ethiopian wolf and over 850 bird species.',\n",
       " 'But spending time outdoors and learning about the past is not the only reason why foreigners travel to Ethiopia. The country offers unique volunteer opportunities for travelers who wish to use their spare time to give back to society. Whether you’re attracted by manual work or can help in the field of literacy and education, you can lend a hand and live an experience that will enrich both your life and that of the community you visit.',\n",
       " 'The Danakil Depression in Ethiopia is a rare but fascinating remote destination. Visitors might feel as if they had landed on a different planet. The Danakil Depression is extremely hot, and features bubbling volcanoes and a unique landscape.',\n",
       " 'Situated 100 meters and more below sea level, it is a natural wonder with a complex geological history. Three tectonic plates meet at the Danakil Depression, which is the result of Africa and Asia moving apart. This has provoked rifting and volcanic activity. Even though Danakil is the hottest place on earth, many travelers visit the depression.',\n",
       " 'Those interested in going to the Danakil Depression are advised to hire a tour, especially considering that it is a somewhat hostile environment. It is best to visit with an expert and someone who knows the area well.',\n",
       " 'Before traveling to Ethiopia, visitors must also make sure that they meet all entry requirements, including obtaining an Ethiopia eVisa. All foreign nationals, with the exception of Kenyan and Djibouti citizens, must apply online for their eVisa to enter Ethiopia. Holders of the Ethiopia tourist visa can stay in the country for 30 or 90 days, depending on the option selected during the application process.',\n",
       " 'Once in Ethiopia, travelers will be able to explore the country at their own speed. Besides going to the Danakil Depression, there are plenty of captivating attractions, including the Omo Valley and Axum.',\n",
       " 'When visiting the Danakil Depression, there are three main highlights worth seeing.',\n",
       " 'Set at about 20 km north from Hamedela, Dallol is a cinder cone volcano. Several hot springs here discharge brine and acidic liquid. Visitors will also see small, temporary geysers that produce cones of salt. The base of the hills is the lowest place in Ethiopia as well as the hottest place on earth.',\n",
       " 'The name Dallol comes from the Afar people, and it means dissolution or disintegration. In fact, the Afar people hack blocks of salt out of the ground in this area. Travelers are likely to see camel caravans loading up with salt here.',\n",
       " 'Irta’ale, also known as Erta Ale, is an active shield volcano. This means that the volcano is composed almost exclusively of lava flows. Erta Ale has been in a state of continuous eruption since 1967. The volcano’s southerly crater is one of the only permanent lava lakes on the planet.',\n",
       " 'The climb to the volcano takes between three to four hours, the road is about 15 km long. Tours take visitors on the hike in the evening, generally after dinner. While the climb in itself is not too steep, the darkness and heat make it more difficult. It is possible to ride a camel and tourists should have a torch to walk. At the summit, the temperature will be cooler.',\n",
       " 'Lake Adfera or Lake Afrera is a hypersaline lake, with a surface of 100 square km. An hypersaline lake is one that has high concentrations of sodium chloride or other salts, making saline levels higher than those in the ocean.',\n",
       " 'The lake is not as visited as Dallol or Erta Ale. However, tours that start in Addis generally include it. Visitors can actually swim in the nearby springs, and salt is extracted from its green waters.',\n",
       " 'Travelers should hire a tour guide to explore the area, especially, as there are no hotels or restaurants. Even though the Danakil Depression is open to foreign visitors, it is important to bear in mind that this is a remote area. Tour operators will set up mobile camps. The same is true for food, tour operators take all of the supplies to feed their guests and crew.',\n",
       " 'Travelers will encounter various companies, each with their own itineraries. One option is to book a three-day, two-night tour. On the first day, tours will usually take their guests to the Erta Ale volcano and crater. On the second day, the tour will move on to Dallol and Lake Asale.',\n",
       " 'It is important to point out that during the tours, electricity and showers will not be available. This also means that there aren’t toilets around. Visitors will find themselves surrounded by nature and without the infrastructure they are generally used to. Before booking a tour, visitors must know that this is part of the experience.',\n",
       " 'Drinking water is often supplied by the tour guide, but it is advised to double check before the journey begins.',\n",
       " 'Those who decide to book a tour must also know that it is mandatory for all Danakil Depression tours to have a military escort. However, there is no reason to be alarmed, it is a matter of safety.',\n",
       " 'When traveling to the Danakil Depression visitors must exercise caution at all times, follow the instructions given by the guide and should not stray away from their group.',\n",
       " 'Some tour companies offer their services all year. However, visitors should bear in mind that between July and early October, the chances of flooding are high. When traveling during this period, you may not be able to make it to Irta’ale or Lake Afdera.',\n",
       " 'It is also essential that foreign visitors know that there are some health related risks for people with heart conditions. If a traveler suffers from heart problems, it is strongly advised to not go to Danakil.',\n",
       " 'Regardless of when travelers go, everyone should watch out for signs of heat exhaustion. Staying hydrated is key.',\n",
       " '“The limits of my language means the limits of my world.” – Ludwig Wittgenstein',\n",
       " 'Languages are not simply a tool for communication but offer an insight into a different world, culture and way of living. We have developed language as a means to transfer messages in a fast and efficient way but in such a vast world, over 6000 official languages have evolved for less than 200 (officially recognized) nations.',\n",
       " 'In Ethiopia, the official language spoken in Amharic, although Ethiopians are also known to speak various regional languages which coexist with the Amharic language.',\n",
       " 'Widely spoken throughout Ethiopia, Amharic is used as a first language for many communities and as a lingua franca by others to serve as the official Ethiopian language for business and administrative duties in all cities and towns.',\n",
       " 'According to current data, nearly 22 million people speak Amharic as their first language in Ethiopia and it has over 4 million second-language speakers within the country and a further 3 million around the world. Amharic in Ethiopia is used in commerce, government, media and national education. People who speak Amharic in Ethiopia as a mother tongue are known as Amharas.',\n",
       " ' Amharic has been spoken in Ethiopia since the late 12th century in various industries including the legal system, commerce, communications, the military and religion.',\n",
       " 'It uses a system taken from the Ge’ez script which serves as an abugida for various languages in the spoken area of Eritrea and Ethiopia. The script is known as fidäl meaning letter or alphabet and is used for religious use within the Ethiopian Orthodox Tewahedo Church.',\n",
       " 'It is a Semitic language developed within the Afro-Asiatic language family, which cannot be translated into the roman alphabet.',\n",
       " 'Due to the abugida system, the Amharic alphabet, or fidel, essentially consists of consonant + vowel characters in different sequences. It is written from left to right, using primary and derived nouns as well as prefixes and suffixes to make sentences agree with two genders and various quantities, similar to latin languages. But also uses different prefixes and suffixes to conjugate verbs in different tenses.',\n",
       " 'Amharic is considered a Holy Language for the Rastafari religion, whose name itself comes from Amharic words Ras, literally signifying ‘head’, and having a similar meaning to the title ‘Duke’, and Täfäri, the name used by Haile Selassie I prior to his reign as Ethiopian regent and emperor until 1974. The religion uses Amharic in music and as a second language for many of its followers.',\n",
       " 'Although thus far Amharic has barely been used outside of Ethiopian administrative, religious and educational texts, the literary body is growing and many novels and poetry books, as well as dictionaries, manuals and journals, are now being written in modern Amharic.',\n",
       " 'If you’re planning a trip to Ethiopia to discover more about the Amharic language or simply to visit this enchanting, ancient land, you’ll need much more than a simple understanding of the linguistics of its people.',\n",
       " 'With an exotic monsoon climate type, Ethiopia is made up of deserts, tropical forests, lakes and mountains which offer a range of diverse flora and fauna so any travelers will have to come well prepared for these conditions.',\n",
       " 'As well as discovering the 9 UNESCO World Heritage sites including the most famous historical cities such as Axum, Lalibela, Gondor, etc. and visiting the stunning natural National Parks, Ethiopian tourism is on the rise and offers much in the way of ecotourism and adventure travel.',\n",
       " 'Whatever your reason for traveling to Ethiopia, don’t forget to organize your paperwork such as the Ethiopian travel authorization: the eVisa for Ethiopia, travel insurance, ensure your passport is valid and in date, and plan your accommodation and transport!',\n",
       " 'One of Ethiopia’s national wonders is its famous rock-hewn churches of Lalibela. This is Ethiopia’s own Christian holy city featuring a number of ancient churches carefully carved into the rock of the Northern Ethiopian landscape.',\n",
       " 'Visiting this UNESCO Heritage site is relatively simple with an Ethiopian eVisa for tourists. Since 2017, the state has permitted visitors to enter the country with an easier-to-acquire Ethiopian eVisa. This is obtained online via a web application form and grants applicants a tourist visa of up to 90 days to visit the country.',\n",
       " 'Once your eVisa is approved, you’ll be ready to visit Lalibela itself. The following article will provide you with a brief introduction to this heritage-site and how you can make your own pilgrimage to this unmissable Ethiopian destination.',\n",
       " 'Lalibela’s rock-hewn churches are situated in the north of the country in the city named after their constructor, a former Zagwe Dynasty Emperor of Ethiopia. The city is located 645km from Addis Ababa in the North Wollo Zone of the nation’s Amhara region, which sits at approximate 2400m above sea level. It is a rocky and mountainous area that is dry and often prone to droughts and was once the location of the historic capital of Ethiopia.',\n",
       " 'Ethiopia is the African country with the longest history of Christian worship and some of the churches of Lalibela date back to as early as the 7th Century.',\n",
       " 'The exact records detailing the construction of the churches has unfortunately been lost to time. However, legend states that work was completed on the churches within 23 years, with the help of angelic assistance.',\n",
       " 'Gebre Mesquel Lalibela, King of Ethiopia, who ruled the land around the 12th and 13th centuries was the driving force behind the project and was inspired to create his own Jerusalem (the site is sometimes known as “New Jerusalem” for this very reason). This was in response to the Muslim conquests of Saladin in the Levant, which had prevented pilgrimages at that time in history.',\n",
       " 'Gebre Mesquel Lalibela was a medieval Ethiopian emperor. His regal name Gebre Mesquel means “Servant of the Cross”, whereas the meaning of his own name literally means “the bees recognize his sovereignty”. This is based on a mythical telling of his birth when a swarm of bees surrounded him as a newborn. The city of Lalibela was originally called Roha but was renamed to honor its former Emperor.',\n",
       " 'In total there are 11 monolithic churches dotted around the Lalibela historical site. These are found grouped in 3 separate locations around the area. The complete list of rock-hewn churches found at Lalibela includes:',\n",
       " 'Unsurprisingly this site has had a large influence on Christianity in Ethiopia and indeed the entire region. The population in this region of the country overwhelmingly identify as Ethiopian Orthodox Christian. For this reason, the site retains its holy status and still remains highly popular with pilgrims in Africa and the world over.',\n",
       " 'The churches take inspiration from many Christian symbols such as the 12 apostles, the many saints of the faith and the Virgin Mary. Inside Lalibela’s churches, recreations of famous religious artifacts such as the tomb of Adam and the tomb of Jesus can be found. The historic rock-carved churches have at times in history even substituted for holy sites like Jerusalem and Bethlehem for pilgrims, when travel to the holy land was restricted.',\n",
       " 'Once you have arrived in Ethiopia you will need to travel to the North of the country to the city of Lalibela. In order to get there, you have several options for transportation available, depending on where you are the country.',\n",
       " 'It is possible to take an internal flight from Addis Ababa International airport directly to Lalibela. This flies twice daily and takes approximately 45 minutes to arrive in the city. The airport in Lalibela is located just 23km away from the city center.',\n",
       " 'There are regular buses from both Addis Ababa and Makele, which both require a change of en-route. However, journey times are long and can take several hours up to a few days. Visitors should also be advised that these routes are known to be particularly busy and poorly maintained, which can cause delays and discomfort.',\n",
       " 'There is a direct road covering the nearly 500km from Mekele to Lalibela. This is one of the simplest ways to drive via car or motorbike to the site of the churches. The road from Lalibela to Addis Ababa, on the other hand, covers 650km and has a journey time of around 14 hours.',\n",
       " 'There are many sights that you shouldn’t miss if visiting this glorious East African nation and the monolithic Churches of Lalibela are certainly one of them. If you wish to travel to Ethiopia to see these magnificent rock-hewn churches for yourself, remember to ensure you meet all the visa requirements and to travel with an authorized eVisa in order to enjoy a smooth arrival.',\n",
       " 'There are plenty of reasons to visit Ethiopia for a holiday. The country boasts a large number of historical and cultural sites, and visitors flock to popular Ethiopia World Heritage Attractions like the remains of the ancient empire of Axum or the rock-hewn churches of Lalibela. However, the rise in awareness in the need to protect Ethiopia’s natural environment, as well as the increasing demand of visitors who want to explore the country’s pristine wilderness and wildlife, is leading to an emergence of ecotourism in Ethiopia.',\n",
       " 'However, sustainable travel to Ethiopia doesn’t mean having to avoid all of the things you’d like to do in the country: many of the tour operators promoting responsible tourism in the country take care to find a balance between combining visits to some of the most appealing cultural and historic attractions with activities such as bird-and-animal-watching and sustainable accommodation options.',\n",
       " 'In order to travel to the country to explore the options for ecotourism, the majority of foreign nationals are first required to obtain a tourist visa for Ethiopia. Most foreign citizens are able to obtain an Ethiopia eVisa exclusively online, which allows a stay of up 90 days in the country. Eligible citizens are able to apply through the simple Ethiopia eVisa application online, eliminating the need to apply from an embassy or consulate.',\n",
       " 'Ecotourism represents an approach to tourism that prioritizes the preservation of a country’s environment and culture, allowing for opportunities for visitors to experience aspects of the county’s ecology and natural conservation as well as its key archaeological, historical, and cultural sites. The aim of promoting ecotourism in Ethiopia is to ensure that visitors can gain insight and appreciation of the country, its geography, and its people, to understand how development affects the environment, as well as enjoying themselves on holiday.',\n",
       " 'Ecotourism is also important as an educational tool for developing greater awareness about the need for environmental and cultural preservation among the native population, in order to promote cooperation in improving and restoring the country’s resources for future generations.',\n",
       " 'The country is already working hard to ensure that ecotourism in Ethiopia continues to grow, including the development of a 10-year Sustainable Tourism Plan which covers the years 2015-2025. The plan aims to both continue the development of the tourism infrastructure as well as to focus on ways that tourism can help to alleviate poverty and provide benefits to the local community. One of the key ways the Ethiopian government hopes to achieve the latter is by getting locals more involved in the tourism industry, including hiring more community-based tour operators and supporting cultural handicraft cooperatives.',\n",
       " 'There are a number of options for sustainable tourism in Ethiopia for visitors to the country. A range of tour operators based in the country offer a variety of guided tours with a focus on the environment, complete with sustainable accommodation options such as eco-lodges, many of which are constructed from natural materials taken from the surrounding environment.',\n",
       " 'Examples of ecotourism tours in Ethiopia include hiking expeditions to the Simien Mountains in the north of the country close to the border with Eritrea, 10-20 day tours around the Omo Valley traditional villages, home to the ancient tribes of Ethiopia, and a variety of bird and animal watching tours centered around Ethiopia’s protected natural parks.',\n",
       " 'Some of the most popular responsible tourism tours in Ethiopia include:',\n",
       " 'Bahir Dar is a city on the shores of Lake Tana in the northeast of the country and capital of the Amhara region. A day tour of Bahir Dar takes in the stunning Blue Nile Falls and includes a boat tour of the lake and its central island, which boasts the ruins of ancient monasteries covered in impressive art. The tour also gives visitors the opportunity to buy local sustainable products such as traditional clothing and jewelry.',\n",
       " 'This tour includes everything visitors can take in on a day tour of Bahir Dar, and also includes a trip to the Rock-Hewn Churches of Lalibela, one of the most popular World Heritage sites in Ethiopia. The huge site consists of 11 monolithic churches that date back to the 12th century and are carved into the area’s distinctive pink granite rock. The churches contain some of the best examples of early religious art in the country and some of Ethiopia’s most important religious artifacts.',\n",
       " 'Located around 100 kilometers south of Addis Ababa, Lake Ziway is one of the freshwater Rift Valley lakes of Ethiopia and home to a diverse range of wildlife, most notably a large number of hippopotamuses. A day tour of the lake includes a boat ride with plenty of bird-watching opportunities and also the chance to visit the island church of Maryam Tsion, which is said to have once housed the Ark of the Covenant.',\n",
       " 'Adventurous travelers may want to consider signing up for this 4-day hike through the desert in Ethiopia’s northwest. The tour allows visitors to observe caravans of camels framed against dramatic sunsets, watch workers cut bricks of salt from the shores of Lake Asale, take in the colorful geographical formations at Dalol, and view the spectacular volcanic eruptions at Lake Erta Alle. The only downside for some may be the fact that the tour involves 3 nights of camping, although the desert vistas certainly make up for the lack of home comforts.',\n",
       " 'Ethiopia is one of the most incredible places to visit in Africa. Known as the ‘Cradle of Mankind’, it has a long and fascinating history, a rich and diverse culture, breathtaking landscapes, and a jaw-dropping range of wildlife.',\n",
       " 'Though you may imagine Ethiopia being a hot, dry country which is uncomfortable to visit, this is simply not the case. Though on the fringes the temperatures can go above 86°F (30°C), Ethiopia enjoys a fairly mild climate with average temperatures of around 86°F (20°C), though this varies depending on altitude.',\n",
       " 'Overall, the best time to travel to Ethiopia is the dry season (between October and June) as the highlands are green, lush, and perfect for hiking. Going during the wetter months is wet and humid but, on the other hand, is the cheapest time to go to Ethiopia. This handy guide will explain the pros and cons of going during the high, shoulder, and low seasons.',\n",
       " 'Some of Ethiopìa’s most vibrant festivals, such as Timkat and Leddet, also fall during this time of year. The only activity you cannot do during these months is hiking in the Simien or Bale mountains.',\n",
       " 'This is the ideal time to go hiking in the Simien mountains which are truly stunning. More adventurous visitors can also visit the Danakil Depression and the Great Rift Valley.',\n",
       " 'Season: Monsoon',\n",
       " 'Average temperature (in Addis Ababa): 55-75°F (12-25°C)',\n",
       " 'Average rainfall: 55-270 mm',\n",
       " 'This is the peak rainy season and it is a bad time to visit many parts of the country such as the Simien or Bale mountains. The lowlands can be hot, sticky, and uncomfortable including Addis Ababa.',\n",
       " 'The major advantage of traveling during the low season is the price. Certain national parks such as the Omo and Mago Valley can be visited after July but many of the most popular national heritage sites and trekking routes are inaccessible.',\n",
       " 'So, when is the perfect time to travel to Ethiopia? This depends on where you want to visit. It is best to avoid the rainy season but apart from this, the Ethiopian weather generally makes for an unforgettable adventure.',\n",
       " 'Here are some recommendations for different regions…',\n",
       " 'The highlands, north, east, and west: October to April',\n",
       " 'The south and Danakil: August to mid-October and mid-February to march',\n",
       " 'If you plan to travel around Ethiopia, take clothing for hot and cooler temperatures they can vary greatly depending on the altitude and time of day.',\n",
       " 'Anyone who has ever been to Ethiopia knows that time works differently there. Just like Ethiopia has its own language, Amharic, so too does it have its own calendar. For example, while most of the rest of the world celebrates the end of the year on December 31st, Ethiopian New Year falls on September 11th or 12th, depending on the year.',\n",
       " 'Ethiopia uses a different calendar to the majority of the rest of the world, owing to a different calculation of the Biblical Annunciation to the Gregorian calendar.',\n",
       " 'Ethiopians use the Incarnation Era to indicate the year, which places the Annunciation of the birth of Jesus on March 25, AD 9 in the Julian calendar.',\n",
       " 'On the other hand, Europeans adopted a different calculation for the Annunciation which placed it eight years earlier, meaning that there exists a gap of 8 years between the start of the Ethiopian calendar and the Gregorian.',\n",
       " 'The Ethiopian calendar is derived from the Egyptian solar calendar but adds a leap day every 4 years without exception. Like the Egyptian Coptic calendar, the Amharic calendar is comprised of 12 months of 30 days each, with an additional month of just 5 or 6 days, depending on the year. Ethiopian calendar months begin on the same days as Coptic calendar months but are instead named in Ge’ez, the ancient language of northern Ethiopia and southern Eritrea.',\n",
       " 'If the differences between calenders all sound a bit confusing, don’t worry, there are plenty of Ethiopia calendar conversion services available online to help you figure out how the dating systems compare!',\n",
       " 'The Amharic calendar determines the liturgical year for the major Christian denominations in Ethiopia and its neighbor Eritrea, meaning that many of the major universally-celebrated holidays fall on completely different days. For example, Christmas is celebrated on January 7th, which the Ethiopian Orthodox Church considers to be the day of Jesus’ birth.',\n",
       " 'Eid al-Fitr, the Festival of Fast-breaking at the end of Ramadan in June, is widely celebrated in Ethiopia. However, the two biggest annual Ethiopian holidays take place much later in the year. Ethiopian holidays in September include Enkutatash (Ethiopian New Year) and Meskel, one of the most important religious festivals in the country.',\n",
       " 'Ethiopian New Year usually falls on September 11th but falls on the 12th in years before the Gregorian leap year. Known as ‘Enkutatash’ in Amharic, the holiday marks 1 Meskerem or the first day in the Ethiopian calendar as well as the relative end of Ethiopia’s rainy season.',\n",
       " 'Local legend also pegs it as the date when the historic Queen of Sheba returned to Ethiopia from her visit to King Solomon in Jerusalem. Her advisers apparently showered her with luxuries as a welcoming gift, hence the name Enkutatash, which means the ‘gift of jewels’ in Amharic.',\n",
       " 'Ethiopian households all over the country light a huge bonfire and celebrate with singing and dancing, while young girls are encouraged to gather daisies and present bouquets to their friends. The largest religious celebration takes place in the Ragual Church on Entoto mountain near Addis Ababa, where thousands gather to pray together and take part in colorful and lively processions.',\n",
       " 'An even bigger religious festival than Ethiopian New Year, the Meskel “True Cross” Celebration takes place on September 26th or 27th. Held annually in Meskel Square in Addis Ababa, the festival commemorates the supposed discovery of the “True Cross” on which Jesus was crucified.',\n",
       " 'The legend goes that in 4BC, the Roman Empress Helena was able to locate the important artifact in Jerusalem by using the smoke from a huge fire. The celebration is especially important to Ethiopians as it’s alleged that a piece of the cross Helena discovered was brought to Ethiopia, and hidden away somewhere in the mountains of Amba Geshen.',\n",
       " 'Ethiopians commemorate the find by building their own massive bonfire, the Meskel, which they decorate with yellow daisies before burning. Ethiopia’s religious leaders lead colorful processions and prayer around the fire, and attendees intently watch to see which way the bonfire will collapse, as it’s believed to predict the future.',\n",
       " 'If you want to better understand the Ethiopian calendar and experience one of the major Ethiopian holidays in September for yourself, it’s a good idea to get the Ethiopia eVisa before traveling, in order to beat the inevitable border queues that form during this busy time of year.',\n",
       " 'Currently, only citizens of Ethiopia’s neighbors Kenya and Djibouti can enter the country visa-free, for periods of a year and up to 3 months, respectively.',\n",
       " 'To travel to Ethiopia and experience Ethiopian New Year and the other most important dates of the Amharic calendar, most travelers are required to either get an Ethiopia visa on arrival from Addis Ababa Bole International Airport or complete the simple Ethiopia eVisa application online. Many prefer the latter option, as getting the Ethiopia visa online before travel saves time and hassle of queuing at the border on arrival.',\n",
       " 'The initial Ethiopia eVisa requirements involve having a passport valid for at least 6 months from the date of arrival in Ethiopia, as well as a valid credit and debit card to pay the visa fee. After completing the quick and easy application, it’s also required to supply the following:',\n",
       " 'The simple form takes only minutes to complete, with most applications processed within 24 hours and at maximum within 3 working days. Although a single-entry visa, applicants for the Ethiopia eVisa can choose between either a 30-day or 90-day validity, allowing for the chance to experience more than one of the major holidays of the Ethiopian calendar.',\n",
       " 'Set in the south of Ethiopia, you will find a unique and magnetic region: the Lower Omo Valley. What stands out most from the Omo Valley is the people that inhabit the region. Here, you will encounter villages of several fascinating and diverse ethnic groups.',\n",
       " 'To visit the Omo Valley in Ethiopia, foreign nationals are required to obtain an Ethiopia online visa to enter the country. The only visa-exempt countries are Kenya and Djibouti. If you are considering visiting the Lower Omo Valley on your next vacation, be sure to check the Ethiopia eVisa requirements and complete the online application with your personal details. To successfully and quickly get this eVisa, you will need to provide your passport info on the Ethiopia eVisa application.',\n",
       " 'The Lower Omo Valley is a dry savanna expanse set by the Omo River, an essential resource to all the tribes, many of which are situated along the river. These ancient tribes have been living in the valley for centuries. Human remains dating back 2.5 million years were discovered and the Omo Valley has been declared a Unesco World Heritage site due to its cultural and historical value.',\n",
       " 'Yes, foreign travelers are able to visit several tribes situated in the region. However, it is important that you know that due to where these tribes are located, the trip might be costly and will require time. It is possible to explore the Omo Valley on a budget as it is also possible to visit different tribes with public transport, though this means that the trip will take longer.',\n",
       " 'The Lower Omo Valley is home to dozens of ancient tribes. However, some of them are more recognizable and will be worth your time. The following tribes are considered as some of the most accessible and popular ones among tourists:',\n",
       " '\\xa0',\n",
       " 'Other tribes you might want to include on your itinerary are Arbore, Ari, Bashada, Meen, Tsamako, Tsemai and Turkana. Be sure to do some research about the tribes before planning the trip. Each tribe is very different from the other, from their clothing, to their traditions. Some of them are small, with a population of between 1,000 and 7,500 people. However, other tribes, like the Konso Tribe are quite large, with over 250,000 people.',\n",
       " 'The amount of time you should spend exploring the tribes is entirely up to you. Be mindful that the Ethiopia eVisa can be valid for a 30-day or a 90-day stay, depending on what you choose on your application.',\n",
       " 'You should also keep in mind the weather in Ethiopia as this can have an impact on your visit to the Omo Valley. Several roads in the area are not paved and to get to some tribes you will need to go through river beds and streams. Ideally, you should avoid rainy season which starts in March and lasts until late June. The best time to visit Ethiopia and the Omo Valley is between September and February, during dry season.',\n",
       " 'There are several companies and tour agencies that can arrange visits to the tribes with a local guide. Even if you are traveling with a budget, at some point it will be a good idea to hire a jeep and a driver to visit some of the tribes. You can hire tour guides for the entire visit or only to go to a few of them.',\n",
       " 'Tour guides do take care of several things that you will not need to worry about such as transportation and accommodation. If you have more of an adventurer spirit, it is possible to use public transport an arrange visits on your own. However, depending on the tribes you wish to visit, a tour guide could actually help you save time and money.',\n",
       " 'Most accommodation in the Omo Valley is not available online. Therefore, if you do choose to not hire a tour company, you will need to find accommodation locally. It is essential that travelers are aware that they’re not going to find five-star hotels in the Omo Valley, but there are a places where they can sleep comfortably.',\n",
       " 'Whether you decide to travel with a tour guide or not depends on how much time you want to spend exploring the Omo Valley. Before your trip, be sure to check the documents needed to travel to Ethiopia and the country’s entry requirements.',\n",
       " 'Perhaps castles are not the first thing that comes to the traveler’s mind when thinking about Ethiopia, but this African country hides many surprises within its territory and tales of emperors and princesses are among them.',\n",
       " 'One of such wonders is the city of Gondar. This enclave, also spelled Gonder, was home to Emperor Fasildas castle and the walled city of Fasil Ghebbi, now part of the UNESCO World Heritage List.',\n",
       " 'However, before delving into entrancing Gondar, please be aware that all of those wishing to travel to Ethiopia must obtain a visa for Ethiopia. Thankfully, Ethiopian authorities launched the Ethiopian eVisa to accelerate this process. This travel authorization is quick and easy to get by completing the Ethiopian Online Visa application form.',\n",
       " 'Many call Gondar ‘the Camelot of Africa’ but unlike Camelot, Gondar is a real city made out of royalty and blood and its history covers hundreds of years starting as early as the 12th century.',\n",
       " 'Gondar was the seat of government for the Solomonic Dynasty (descended from the biblical Solomon and Sheba), throughout the 16th -18th century.',\n",
       " 'Gondar’s fertile lands and strategic placement are a couple of the reasons why Emperor Fasiladas chose this location as his seat of power in 1636. As legend has it, he was led by a buffalo to a pool by the Angered. Once there, a wise hermit announced to the Emperor he would locate his capital there. And so did Fasilidas. He filled in the pool and built his castle right there.',\n",
       " 'Emperor Fasiladas went on to build a total of 7 churches and the 5 emperors who succeded him followed suit by building even more churches and palaces, some of which still stand today.',\n",
       " 'Nevertheless, the most famous of all the Gondar palaces is Fasil Ghebbi, built by Emperor Fasiladas.',\n",
       " 'Towards the end of the 18th century, Gondar’s influence began to decline and 1769 marks the end of ‘the Gondar Period.’ From that point on, even though emperors continued to sit in Gondar, they barely held any power and local governors strated ruling each Ethiopian region.',\n",
       " 'Gondar sits surrounded by hills and mountains that are populated by endemic flora and animals. The region is home to the Simien Mountains National Park and the tallest peak of Ethiopia, Ras Dejen (or Ras Dashen) at 4,550m.',\n",
       " 'The Ethiopian castle notwisthanding, all of those who visit Gondar will have a hard time running out of interesting activities.',\n",
       " 'Some must-see sights no one should miss are:',\n",
       " 'Options abound whether you are traveling by air or by road.',\n",
       " 'Daily flights connect Gondar to the airports of Addis Ababa, Lalibela, and Axum.',\n",
       " 'There is a mid-sized airport in Gondar and Ethiopian Airlines operates daily flights to the city. You can also fly to and from Lalibela, but travelers should allow plenty of time if they have an international connection as flights are canceled or rescheduled on short notice on a regular basis.',\n",
       " 'Most hotels offer a free airport transfer service, and taxis and vans are also available.',\n",
       " 'Gondar is 355km southwest of Axum and fans of scenic routes will appreciate the amazing route through Simien Mountains National Park.',\n",
       " 'Gondar covers a lot of ground but it is extremely walkable which makes strolling through its tin-roofed stone buildings a true delight.',\n",
       " 'You can also find inexpensive taxis and minibusses that run through the city, as well as garis, the local horse-drawn taxis.',\n",
       " 'If you like to enjoy outdoor activities and are after rainless, clear days with mild temperatures, you are better off visiting Gondar from mid-October to late April. Temperatures around those times are between 65°F and 80°F.',\n",
       " 'However, if you love hot-weather activities and high temperatures don’t scare you away, you may want to travel to Gondar from mid-February to early May. That time of the year temperatures are between 80°- 90°F.',\n",
       " 'Those who like to partake in local festivities shoud take the chance to travel to Gondar during Timkat, the Ethiopian Orthodox equivalent to Epiphany. It takes place on January 19 at Fasilides’ Bath and it reenecats the first baptism.',\n",
       " 'Fans of cooler weather should know the cool season lasts from July to September an it averages temperatures below 71°F.',\n",
       " 'To start planning your visit to Gondar, check the requirements for the Ethiopia eVisa to make sure you qualify and fill out the Ethiopia electronic visa application form online. It will save you time and hassle and once the flight has been booked you will be on your way to enjoying an African fairy tale.',\n",
       " 'Axum (also spelled Aksum) in Ethiopia is possibly the greatest historical site that you’ve never heard of. The town was once the center of a great ancient civilization. Notable for its huge and iconic obelisks, it is rumored to have been the home of the Queen of Sheba and is believed by some to house the Ark of the Covenant.\\xa0',\n",
       " 'Axum is one of Ethiopia’s 9 World Heritage Sites. The easiest way to visit it and the other sites is with the Ethiopia eVisa. The eVisa is for nationals of any country who will be flying into Ethiopia’s Addis Ababa Bole International Airport. You just need to fill in the simple Ethiopia online visa application form and you should receive your electronic visa within 24 hours to your email account.\\xa0',\n",
       " 'The small town of Axum in the Tigray region is seen as the holiest city in Ethiopia and is home to the Church of Our Lady Mary of Zion, which according to Ethiopia’s Orthodox Church is where the Ark of the Covenant came to rest. In addition to this place of pilgrimage, the main attraction is what was the main city of the Axum empire.\\xa0',\n",
       " 'Axum dates back to the 1st century AD and saw its heyday in the 4th-7th centuries. The empire collapsed with the rise of Islam, as Muslim merchants closed off the Axum Empire trading routes across the Red Sea.\\xa0',\n",
       " 'Axum is one of the most popular tourist attractions in Ethiopia, its highlights include:',\n",
       " 'But perhaps what Axum is best known for is the iconic obelisks known as steles. Some of these are up to 23 meters tall. They have come to be seen as a symbol of Ethiopia itself. The tallest of the obelisks was taken to Italy, and Ethiopia had long petitioned for its return. This was finally granted a few years ago and the return of the stele was greeted with much celebration.',\n",
       " 'If you are thinking of visiting Axum then you may want to avoid Ethiopia’s rainy season, which is between May and September. It will also be chilly as Axum is 2,000 meters above sea level and is only warm when the sun is out.',\n",
       " 'During the rest of the year, the sun is strong and the temperatures are high. For this reason, visitors should apply plenty of sunscreen and be sure to bring enough water.\\xa0',\n",
       " 'If you look at a map of Axum you can see that it is in the north of the country, close to the recently reopened Ethiopia/Eritrea border. The town is a 20-minute flight from Gondar and a 1-hour flight from Addis Ababa. Internal flights within Ethiopia are both frequent and cheap. It is also possible to travel from Gondar to Axum by bus, changing at the town of Shire. This is a long journey that will probably require that you overnight in Shire. The nearest major town to Axum is Mekele, which is about 4 hours away by bus.',\n",
       " 'If you are traveling to Ethiopia and are interested in ancient history then Axum should be at the top of your list of places to visit. And if you will be flying into Addis Ababa Bole International Airport, then don’t forget to meet Ethiopia’s eVisa requirements and apply in advance.',\n",
       " 'There is an incredible amount of things do do in Addis Ababa. Ethiopia’s exciting capital city is not just one of the most vibrant and eclectic cities in the country, it is often referred to as the capital of Africa.',\n",
       " 'Its name translates to “new flower” in the Amharic language which reflects its youthful, lively charm and personality. Set in the breathtaking Ethiopian highlands, Addis Ababa is 2,665 meters above sea level, which makes the weather a little cool but very pleasant. Visitors can enjoy the city at any time of the year.',\n",
       " 'Planning a trip to Ethiopia’s capital can be overwhelming as there is so much to see. To help you plan your trip, we’ve compiled a list of the most interesting things to see in Addis Ababa.',\n",
       " 'There is an exciting range of fascinating things to do in Addis Ababa including churches, markets, and fascinating museums. You can also find some of the world’s best coffee and \\xa0mouthwatering range of local and international restaurants and food stalls.',\n",
       " 'Mercato is the biggest outdoor market in Africa. It’s vast and you can find anything there, including some stunning artisan, handmade crafts, a sensational range of spices, and some absolute bargains. 90 tribes of Ethiopia are represented at the market which makes the experience even more fascinating.',\n",
       " 'Mount Entoto offers jaw dropping, panoramic views of Addis Ababa’s magnificent scenery. It’s 3,200 meters above sea level the eucalyptus tree forest makes it perfect for hiking. There are also two of the country’s oldest churches there: St. Raguel (Elias) and St. Mary of Entoto.',\n",
       " '',\n",
       " 'Medhane Alem is the biggest church in Addis Ababa (and the second largest cathedral in Africa!). Its name means “Saviour of the World” and the building itself is fairly modern. The white and yellow structure has some beautiful domes and the colorful interior features frescoes of saints and stained glass windows.',\n",
       " 'St. George’s Cathedral is the most iconic place of worship in Addis Ababa. It’s set on the top of a hill and is famous for its stunning stained glass windows and its grand imperial throne. There is also a museum just a short stroll away which is filled with paintings of scenes from the Bible and from Ethiopian history.',\n",
       " '',\n",
       " 'Many visitors say the National Museum of Ethiopia is one of the best museums in the country and one of the best things to do in Addis Ababa. The museum contains thousands of items and there is a fantastic range of displays. Some of the highlights include the statues of Axum, the model of “Lucy”, and remains of the very early humans.',\n",
       " 'Meskel Square is the capital’s main meeting point. There are regular events which are popular with both visitors and locals and there are a few museums there which are worth a visit. One of them is the Red Terror Martyrs Memorial Museum which documents the violent period of suffering in the 1970s.',\n",
       " 'Ethiopia’s cities contain a wealth of exciting attractions and festivities for tourists to explore, such as the unique Meskel True Cross celebration in Addis Ababa. However, to really delve into the culture and history, visitors should head to the countryside to explore some of the many stunning World Heritage attractions in Ethiopia.',\n",
       " 'Many of these protected locations not only contain clues to decipher Ethiopia’s past, but also to help us understand the history of the entire world and our evolution as a species. In order to travel to Ethiopia and discover the impressive UNESCO heritage sites, most foreign nationalities require a visa for Ethiopia to enter the country.',\n",
       " 'There are a total of 9 UNESCO World Heritage attractions in Ethiopia, 8 cultural sites and one natural conservation area, the Simien National Park, home to a range of native endangered animals such as the Gelada baboon and the Ethiopian wolf. The most impressive Ethiopian World Heritage sites are scattered along the central length of the country, from the ancient ruins of Axum in the north to the Omo Valley archeological sites in the south.',\n",
       " 'Located close to Ethiopìa’s recently reopened border with Eritrea in the extreme north of the country, these ancient ruins represent the last remains of the powerful Aksumite kingdom, which dominated the area from the 1st to the 8th centuries AD. Alternatively known as Aksum, this impressive Ethiopian World Heritage site boasts a variety of intriguing artifacts, most notably the towering monolithic obelisks (up to 23 meters high) that dominate the area.',\n",
       " 'Many tourists visit Aksum in search of the Ark of the Covenant, the Biblical artifact which is said to have been brought to Ethiopia by the son of the Queen of Sheba and held under guard near the Church of Our Lady Mary of Zion in this ancient city.',\n",
       " 'Why visit Gondar? Nicknamed ‘the Camelot of Ethiopia’, this city near Lake Tana in the northwest is home to the ruins of the fortress-city of Fasil Ghebbi, the residence of Ethiopia’s emperors during the 16th and 17th centuries.',\n",
       " 'The compound is surrounded by an ancient 900 meter-long wall and boasts the well-preserved remains of various royal castles in the unique Nubian style. Visitors often feel as though they’ve been transported back to Medieval Europe (without leaving Africa!).',\n",
       " 'One of the first World Heritage sites in Ethiopia to be added to the UNESCO list, in 1978, the rock-cut churches of Lalibela can be found close to this holy city in the north of Ethiopia. This series of jaw-dropping monolithic churches were carved directly into a rocky cliff face between the 12th and 13th century.',\n",
       " 'The Lalibela churches are considered a place of holy pilgrimage in Ethiopia, and visitors should at least pay a visit to St. George’s Cathedral, the best-preserved specimen, which is said to have been built on orders from none other than God himself.',\n",
       " 'Found close to the border with Somalia in the east of the country, this sacred holy city is surrounded by 13-century fortified walls and boasts over 82 mosques, 3 of which date back as far as the 10th century. However, this historic city really earns its World Heritage site status through the intricately designed merchant townhouses that reflects the diversity of this long-time trading post.',\n",
       " 'Don’t leave Harar without visiting the cultural center dedicated to famous French poet Arthur Rimbaud, who once made his home in the city, or attending a night-time hyena feeding show just outside the ancient walls.',\n",
       " 'The Lower Awash Valley, around 300 kilometers north of Addis Ababa, is one of the most important UNESCO World Heritage sites in Ethiopia. Some of the most significant paleoanthropological discoveries on the African continent have been made in the area, some dating back as much as 3 million years.',\n",
       " 'These include the unearthing of the bones of Lucy, an early human whose discovery has greatly boosted theories of evolution. A replica of Lucy’s skeleton can now be seen in the National Museum of Ethiopia in Addis Ababa, but it’s worth paying a visit to the site anyway to explore the ongoing excavations. You might even find a fossil or two yourself.',\n",
       " 'Just a two-hour drive south of Addis Ababa, this Ethiopian World Heritage attraction could give the famous Stonehenge in England a run for its money.',\n",
       " 'It’s home to the Tiya megaliths of Ethiopia, a series of standing stones carved with cryptic symbols attributed to an ancient Ethiopian civilization. Although presumed to be of funerary significance, these stone structures remain a mystery, so it’s fun to visit to try to figure out what they mean for yourself.',\n",
       " 'If you’ve ever been curious about experiencing a completely different way of life to much of the western world, then the Lower Omo Valley is a must visit in Ethiopia. It’s home to a variety of indigenous tribes, and visitors can take a tour of the traditional settlements and get to know the local customs.',\n",
       " 'This UNESCO World Heritage attraction also includes the Konso and Fejej paleontological research locations, where ancient stone tools and fossils supporting theories of human evolution have also been uncovered.',\n",
       " 'Whereas many of the UNESCO World Heritage sites in Ethiopia are remnants of the country’s distant past, visitors can experience real living history at the Konso Cultural Landscape. This 55km2 area in the far south of Ethiopia, near the border with Kenya, is full of striking traditional villages built on extensive dry stone terraces used for agriculture, a living cultural tradition that stretches back over 400 years and 21 generations.',\n",
       " 'One of the standout features of the area is the daga-hela, large stone megaliths that continue to be constructed and used in rituals by the native Konso tribespeople, as well as the waka, anthropomorphic wooden statues the Konso erect to commemorate the deceased.',\n",
       " 'If you feel like exploring these incredible World Heritage attractions in Ethiopia, don’t forget to first check if you require a tourist visa for Ethiopia before your trip.']"
      ]
     },
     "execution_count": 21,
     "metadata": {
      "tags": []
     },
     "output_type": "execute_result"
    }
   ],
   "source": [
    "metadata"
   ]
  },
  {
   "cell_type": "code",
   "execution_count": 22,
   "metadata": {
    "colab": {
     "base_uri": "https://localhost:8080/",
     "height": 34
    },
    "colab_type": "code",
    "id": "kE-ymJXgXLUL",
    "outputId": "15fe0946-24b1-44e3-9d49-99fe85e68a88"
   },
   "outputs": [
    {
     "data": {
      "text/plain": [
       "list"
      ]
     },
     "execution_count": 22,
     "metadata": {
      "tags": []
     },
     "output_type": "execute_result"
    }
   ],
   "source": [
    "#Check Data type\n",
    "type(metadata)"
   ]
  },
  {
   "cell_type": "code",
   "execution_count": 23,
   "metadata": {
    "colab": {
     "base_uri": "https://localhost:8080/",
     "height": 54
    },
    "colab_type": "code",
    "id": "hjcGjMYQXsJR",
    "outputId": "988df8e6-30b3-412c-fa5f-c4307468d74c"
   },
   "outputs": [
    {
     "name": "stdout",
     "output_type": "stream",
     "text": [
      "Simien Mountains National Park is a dramatic wilderness in the north of Ethiopia. Its jagged landscape, complete with soaring peaks and hidden valleys, is home to alien flowers and rare creatures. It is the perfect adventure for visitors who love trekking, nature, and stunning views.Read on to discover the best things to see at this UNESCO World Heritage Site, how to get there, and where to stay.The Simien Mountains (also spelled Semien mountains) are located in the Ethiopian Highlands, often referred to as “the Roof of Africa”. The highest point in the country is the mountain Ras Dashen at 4,550 m, found within the park.Simien Mountains National Park is located close to the town of Debark, where the park headquarters and main entry point can be found.Debark is on the main road between the historic cities of Gondar and Axum, within a few hours’ drive of each. There are also buses that run between these two cities that stop at Debark.Simien Mountain National Park is like nowhere else on earth. The volcanic rock of the Ethiopian plateau has been eroded by the forces of nature over millions of years to create a maze of rocky peaks and ravines. This unique environment is home to equally unique flora and fauna. These inhabitants and the scenery are the biggest draws for visitors.The best way to see the park is to go on an organized trek from Debark.The Simien Mountains region has diverse terrain. Travelers trekking out from Debark will first pass through eucalyptus groves and highland pastures in the steep-sided valleys. From there on, there are sheer cliffs, cascading waterfalls, and escarpments offering incredible views over the lowlands.Overlooking it all is the imposing peak of Ras Dashen. Important things to know about this mountain include:Anyone can attempt the climb, but it is only recommended for serious trekkers.There are many shorter treks available for travelers who would rather not make the climb and the view of the mountain itself can still be enjoyed by all.Simien Mountain National Park is home to a number of rare plants and animals, some of which are endemic to the region (i.e. they cannot be found anywhere else). Lucky travelers can spot the following:Other animals native to the Simien Mountains include:Most international travelers arrive by airplane to the capital city of Addis Ababa. From here, domestic flights can be taken to Gondar or Aksum, from which the Simien Mountains can be reached by road.The first step to visiting Simien Mountains is to obtain the correct documentation to enter Ethiopia. For most nationalities, this means applying for an Ethiopia eVisa.The Ethiopian eVisa is the quickest and easiest way to get your application processed. Before applying, it is best to check that you meet the requirements for an Ethiopia online visa.Once you have arrived in northern Ethiopia, the following information is very useful for organizing your visit to Simien Mountains National Park.The national park is open 8.30 am–8.30 pm from Monday to Friday and 8.30 am–12.00 pm at the weekend.Visitors must first go to the National Park Office in south Debark, where they can obtain permits to enter the park. Visitors are not permitted in Simien Mountains National Park without a trained scout, whose instructions must be followed while in the park. A scout can be hired at the park office.Travelers who want a more in-depth tour of Simien Mountains National Park can also hire an official guide.The entrance fee for foreigners is 90 birr (US$2.94), with an extra 40 birr (US$1.32) for each day of camping. The scout’s fee is 150 birr (US$4.91) per day.The total cost of trekking in the Simien Mountains can vary, depending on what you want. Optional extras include:There are 2 hotels in the nearby town of Debark, which are aimed specifically at visitors to Simien Mountains National Park:Visitors may also choose to stay in Gondar to take advantage of its tourist attractions and history and drive up to the national park.While trekking through the park, many visitors choose to camp. However, there are also lodges in the Simien Mountains offering basic accommodation scattered throughout the park for travelers who don’t mind paying a bit more for a real roof over their heads. The Simien Lodge, which advertises itself as “the highest hotel in Africa” is one such example.Before staying in the wilds of Simien Mountains National Park, visitors should make sure they have had all the vaccines needed to travel to Ethiopia.As tourism grows in Ethiopia and more and more international travelers are attracted to the African nation because of its natural wonders and archaeological sites, Ethiopia is experiencing the largest tourism economy growth in the world. And it’s not by chance. The government has implemented a series of measures to make the country more welcoming and accommodating for foreigners — including the online visa that can be applied for online in just a few minutes.Many decide to come to Ethiopia traveling solo, others bring their families or partner along. Either way, international tourists always worry about safety and security before making any travel plans.On this page, you’ll find important information for tourists regarding:Whether they apply for an Ethiopian visa for a 5-star experience in a luxury resort, trekking in the Ethiopian nature, or volunteering during their holidays, the number 1 priority of tourists is and always should be safety.Ethiopia is overall a very safe country, in fact, one of the safest in the area. Violent and serious crime rates are much lower than in neighboring countries and these offences are extremely rarely committed against foreigners.Even petty crime like pickpocketing and scams against tourists are very rare outside the capital Addis Ababa and can be easily avoided by taking standard safety measures.Ethiopia is politically stable — it’s very unlikely that you will witness protests or civil unrest. In general, there are just a few remote regions that may experience the occasional trouble, and these are far from the areas frequented by tourists. Areas that you might want to avoid are border regions and the Ogaden region.Again, international travelers usually spend time in Ethiopia without an issue. The following are annoyances that some tourists may experience, but that are also decreasing in frequency:Female tourists usually feel safe on Ethiopian streets, even when traveling alone. Foreigners usually have no issues walking alone (even in the evening) and taking public transport.Solo Western travelers may attract the attention of local young men, who usually try to start a conversation with them by calling them ‘sister’. However, they easily desist and the best way to avoid the annoyance is just to ignore them.Ethiopian women in the capital and major urban centers wear all sorts of clothing. You’ll find designer and catwalk clothes alongside traditional Ethiopian dresses and it will be pretty easy to blend in.In rural areas, the dress code tends to be more conservative and it may be preferable to wear knee-length skirts to avoid unwanted attention.There’s no specific travel advice for tourists visiting Ethiopia that doesn’t apply to other tourist destinations too. In general, try to follow common sense and by just taking a few steps, you’ll be able to enjoy your Ethiopian holiday hassle-free.Here is the Ethiopia travel advice issued by the US Department of State:Traveling to Ethiopia has taken a much easier turn since 2017, when the Ethiopia electronic visa program was introduced for the first time. The new electronic visa system made obtaining a permit to enter the country quick and easy for international travelers.Eligible foreigners can apply for a visa for Ethiopia entirely online, all they need is access to a reliable internet connection and to a device to go online. After filling out the application form and attaching relevant documents, they will receive their approved Ethiopian visa via email. This removes the need to visit an Ethiopian embassy or consulate in person in order to get a tourist visa.Intended to facilitate border check and encourage international tourism, the Ethiopian eVisa system was a success and the country has seen a boost in the number of foreign visitors choosing Ethiopia as their holiday destination.The number of foreign tourists visiting Ethiopia in the year 2016-2017 was reported to be 871,000, an impressive surge from previous years. Yet the Ethiopian Ministry of Tourism and Culture expects this to increase even further and predicts that there will be 2.5 million arrivals per year by 2020.In 2018, the Ethiopian Travel and Tourism economy grew by 48.6%. This is impressive growth — in fact, the largest in the world according to the World Travel & Tourism Council (WTTC) whose annual review calculates the financial and social impact of tourism.The improvement in the travel experience caused by the new eVisa played a big role in this surge. Speaking in Accra, Ethiopian Airlines stated that more than 200,000 tourists used the eVisa system to obtain a travel authorization.Ethiopian Airlines Group CEO Tewolde Gebre Mariam commented: “The milestone in the number of travelers who visited Ethiopia through the e-visa service comes as good news to all of us in the tourism and travel industry.”He continued: “The milestone is indicative of the fact that the number of visitors who use the digitized service is on the rise. This will bring more benefits to Ethiopia in terms of facilitating travel and promoting tourism, trade, and investment to the country.”Foreign nationals of a great number of countries can apply for the eVisa. The visa requirements are easy to understand and designed to make the process smooth and fast. Completing a eVisa application for Ethiopia only takes minutes.Once the application is submitted, the Ethiopian authorities will assess the request within hours. The applicant will then find their visa in their inbox at the email address provided in the application form. In rare cases, some travelers may experience delays — this usually happens when there is missing information in their online form or the Ethiopian authorities require further documentation due to the applicant’s specific circumstances.There are countless reasons why one should consider Ethiopia as their next destination. With a total of 9 UNESCO World Heritage Sites, Ethiopia is a land of great archaeological interest that will make for unforgettable memories for all those who enjoy cultural traveling.Ethiopia is also ideal for those who love nature. Its breath-taking landscapes offer stark contrast that are hard to find elsewhere, from the arid flatlands of Omo Valley to the peaks of the Simien Mountains. In fact, more than 70% of Africa’s mountains are in Ethiopia, a paradise for hikers and those who enjoy active holidays.It’s a fact well known that Africa is one of the richest continents in the world for biodiversity. In Ethiopia, you’ll be able to observe rare animals in the wild — from the Gelada baboon to the Ethiopian wolf and over 850 bird species.But spending time outdoors and learning about the past is not the only reason why foreigners travel to Ethiopia. The country offers unique volunteer opportunities for travelers who wish to use their spare time to give back to society. Whether you’re attracted by manual work or can help in the field of literacy and education, you can lend a hand and live an experience that will enrich both your life and that of the community you visit.The Danakil Depression in Ethiopia is a rare but fascinating remote destination. Visitors might feel as if they had landed on a different planet. The Danakil Depression is extremely hot, and features bubbling volcanoes and a unique landscape.Situated 100 meters and more below sea level, it is a natural wonder with a complex geological history. Three tectonic plates meet at the Danakil Depression, which is the result of Africa and Asia moving apart. This has provoked rifting and volcanic activity. Even though Danakil is the hottest place on earth, many travelers visit the depression.Those interested in going to the Danakil Depression are advised to hire a tour, especially considering that it is a somewhat hostile environment. It is best to visit with an expert and someone who knows the area well.Before traveling to Ethiopia, visitors must also make sure that they meet all entry requirements, including obtaining an Ethiopia eVisa. All foreign nationals, with the exception of Kenyan and Djibouti citizens, must apply online for their eVisa to enter Ethiopia. Holders of the Ethiopia tourist visa can stay in the country for 30 or 90 days, depending on the option selected during the application process.Once in Ethiopia, travelers will be able to explore the country at their own speed. Besides going to the Danakil Depression, there are plenty of captivating attractions, including the Omo Valley and Axum.When visiting the Danakil Depression, there are three main highlights worth seeing.Set at about 20 km north from Hamedela, Dallol is a cinder cone volcano. Several hot springs here discharge brine and acidic liquid. Visitors will also see small, temporary geysers that produce cones of salt. The base of the hills is the lowest place in Ethiopia as well as the hottest place on earth.The name Dallol comes from the Afar people, and it means dissolution or disintegration. In fact, the Afar people hack blocks of salt out of the ground in this area. Travelers are likely to see camel caravans loading up with salt here.Irta’ale, also known as Erta Ale, is an active shield volcano. This means that the volcano is composed almost exclusively of lava flows. Erta Ale has been in a state of continuous eruption since 1967. The volcano’s southerly crater is one of the only permanent lava lakes on the planet.The climb to the volcano takes between three to four hours, the road is about 15 km long. Tours take visitors on the hike in the evening, generally after dinner. While the climb in itself is not too steep, the darkness and heat make it more difficult. It is possible to ride a camel and tourists should have a torch to walk. At the summit, the temperature will be cooler.Lake Adfera or Lake Afrera is a hypersaline lake, with a surface of 100 square km. An hypersaline lake is one that has high concentrations of sodium chloride or other salts, making saline levels higher than those in the ocean.The lake is not as visited as Dallol or Erta Ale. However, tours that start in Addis generally include it. Visitors can actually swim in the nearby springs, and salt is extracted from its green waters.Travelers should hire a tour guide to explore the area, especially, as there are no hotels or restaurants. Even though the Danakil Depression is open to foreign visitors, it is important to bear in mind that this is a remote area. Tour operators will set up mobile camps. The same is true for food, tour operators take all of the supplies to feed their guests and crew.Travelers will encounter various companies, each with their own itineraries. One option is to book a three-day, two-night tour. On the first day, tours will usually take their guests to the Erta Ale volcano and crater. On the second day, the tour will move on to Dallol and Lake Asale.It is important to point out that during the tours, electricity and showers will not be available. This also means that there aren’t toilets around. Visitors will find themselves surrounded by nature and without the infrastructure they are generally used to. Before booking a tour, visitors must know that this is part of the experience.Drinking water is often supplied by the tour guide, but it is advised to double check before the journey begins.Those who decide to book a tour must also know that it is mandatory for all Danakil Depression tours to have a military escort. However, there is no reason to be alarmed, it is a matter of safety.When traveling to the Danakil Depression visitors must exercise caution at all times, follow the instructions given by the guide and should not stray away from their group.Some tour companies offer their services all year. However, visitors should bear in mind that between July and early October, the chances of flooding are high. When traveling during this period, you may not be able to make it to Irta’ale or Lake Afdera.It is also essential that foreign visitors know that there are some health related risks for people with heart conditions. If a traveler suffers from heart problems, it is strongly advised to not go to Danakil.Regardless of when travelers go, everyone should watch out for signs of heat exhaustion. Staying hydrated is key.“The limits of my language means the limits of my world.” – Ludwig WittgensteinLanguages are not simply a tool for communication but offer an insight into a different world, culture and way of living. We have developed language as a means to transfer messages in a fast and efficient way but in such a vast world, over 6000 official languages have evolved for less than 200 (officially recognized) nations.In Ethiopia, the official language spoken in Amharic, although Ethiopians are also known to speak various regional languages which coexist with the Amharic language.Widely spoken throughout Ethiopia, Amharic is used as a first language for many communities and as a lingua franca by others to serve as the official Ethiopian language for business and administrative duties in all cities and towns.According to current data, nearly 22 million people speak Amharic as their first language in Ethiopia and it has over 4 million second-language speakers within the country and a further 3 million around the world. Amharic in Ethiopia is used in commerce, government, media and national education. People who speak Amharic in Ethiopia as a mother tongue are known as Amharas. Amharic has been spoken in Ethiopia since the late 12th century in various industries including the legal system, commerce, communications, the military and religion.It uses a system taken from the Ge’ez script which serves as an abugida for various languages in the spoken area of Eritrea and Ethiopia. The script is known as fidäl meaning letter or alphabet and is used for religious use within the Ethiopian Orthodox Tewahedo Church.It is a Semitic language developed within the Afro-Asiatic language family, which cannot be translated into the roman alphabet.Due to the abugida system, the Amharic alphabet, or fidel, essentially consists of consonant + vowel characters in different sequences. It is written from left to right, using primary and derived nouns as well as prefixes and suffixes to make sentences agree with two genders and various quantities, similar to latin languages. But also uses different prefixes and suffixes to conjugate verbs in different tenses.Amharic is considered a Holy Language for the Rastafari religion, whose name itself comes from Amharic words Ras, literally signifying ‘head’, and having a similar meaning to the title ‘Duke’, and Täfäri, the name used by Haile Selassie I prior to his reign as Ethiopian regent and emperor until 1974. The religion uses Amharic in music and as a second language for many of its followers.Although thus far Amharic has barely been used outside of Ethiopian administrative, religious and educational texts, the literary body is growing and many novels and poetry books, as well as dictionaries, manuals and journals, are now being written in modern Amharic.If you’re planning a trip to Ethiopia to discover more about the Amharic language or simply to visit this enchanting, ancient land, you’ll need much more than a simple understanding of the linguistics of its people.With an exotic monsoon climate type, Ethiopia is made up of deserts, tropical forests, lakes and mountains which offer a range of diverse flora and fauna so any travelers will have to come well prepared for these conditions.As well as discovering the 9 UNESCO World Heritage sites including the most famous historical cities such as Axum, Lalibela, Gondor, etc. and visiting the stunning natural National Parks, Ethiopian tourism is on the rise and offers much in the way of ecotourism and adventure travel.Whatever your reason for traveling to Ethiopia, don’t forget to organize your paperwork such as the Ethiopian travel authorization: the eVisa for Ethiopia, travel insurance, ensure your passport is valid and in date, and plan your accommodation and transport!One of Ethiopia’s national wonders is its famous rock-hewn churches of Lalibela. This is Ethiopia’s own Christian holy city featuring a number of ancient churches carefully carved into the rock of the Northern Ethiopian landscape.Visiting this UNESCO Heritage site is relatively simple with an Ethiopian eVisa for tourists. Since 2017, the state has permitted visitors to enter the country with an easier-to-acquire Ethiopian eVisa. This is obtained online via a web application form and grants applicants a tourist visa of up to 90 days to visit the country.Once your eVisa is approved, you’ll be ready to visit Lalibela itself. The following article will provide you with a brief introduction to this heritage-site and how you can make your own pilgrimage to this unmissable Ethiopian destination.Lalibela’s rock-hewn churches are situated in the north of the country in the city named after their constructor, a former Zagwe Dynasty Emperor of Ethiopia. The city is located 645km from Addis Ababa in the North Wollo Zone of the nation’s Amhara region, which sits at approximate 2400m above sea level. It is a rocky and mountainous area that is dry and often prone to droughts and was once the location of the historic capital of Ethiopia.Ethiopia is the African country with the longest history of Christian worship and some of the churches of Lalibela date back to as early as the 7th Century.The exact records detailing the construction of the churches has unfortunately been lost to time. However, legend states that work was completed on the churches within 23 years, with the help of angelic assistance.Gebre Mesquel Lalibela, King of Ethiopia, who ruled the land around the 12th and 13th centuries was the driving force behind the project and was inspired to create his own Jerusalem (the site is sometimes known as “New Jerusalem” for this very reason). This was in response to the Muslim conquests of Saladin in the Levant, which had prevented pilgrimages at that time in history.Gebre Mesquel Lalibela was a medieval Ethiopian emperor. His regal name Gebre Mesquel means “Servant of the Cross”, whereas the meaning of his own name literally means “the bees recognize his sovereignty”. This is based on a mythical telling of his birth when a swarm of bees surrounded him as a newborn. The city of Lalibela was originally called Roha but was renamed to honor its former Emperor.In total there are 11 monolithic churches dotted around the Lalibela historical site. These are found grouped in 3 separate locations around the area. The complete list of rock-hewn churches found at Lalibela includes:Unsurprisingly this site has had a large influence on Christianity in Ethiopia and indeed the entire region. The population in this region of the country overwhelmingly identify as Ethiopian Orthodox Christian. For this reason, the site retains its holy status and still remains highly popular with pilgrims in Africa and the world over.The churches take inspiration from many Christian symbols such as the 12 apostles, the many saints of the faith and the Virgin Mary. Inside Lalibela’s churches, recreations of famous religious artifacts such as the tomb of Adam and the tomb of Jesus can be found. The historic rock-carved churches have at times in history even substituted for holy sites like Jerusalem and Bethlehem for pilgrims, when travel to the holy land was restricted.Once you have arrived in Ethiopia you will need to travel to the North of the country to the city of Lalibela. In order to get there, you have several options for transportation available, depending on where you are the country.It is possible to take an internal flight from Addis Ababa International airport directly to Lalibela. This flies twice daily and takes approximately 45 minutes to arrive in the city. The airport in Lalibela is located just 23km away from the city center.There are regular buses from both Addis Ababa and Makele, which both require a change of en-route. However, journey times are long and can take several hours up to a few days. Visitors should also be advised that these routes are known to be particularly busy and poorly maintained, which can cause delays and discomfort.There is a direct road covering the nearly 500km from Mekele to Lalibela. This is one of the simplest ways to drive via car or motorbike to the site of the churches. The road from Lalibela to Addis Ababa, on the other hand, covers 650km and has a journey time of around 14 hours.There are many sights that you shouldn’t miss if visiting this glorious East African nation and the monolithic Churches of Lalibela are certainly one of them. If you wish to travel to Ethiopia to see these magnificent rock-hewn churches for yourself, remember to ensure you meet all the visa requirements and to travel with an authorized eVisa in order to enjoy a smooth arrival.There are plenty of reasons to visit Ethiopia for a holiday. The country boasts a large number of historical and cultural sites, and visitors flock to popular Ethiopia World Heritage Attractions like the remains of the ancient empire of Axum or the rock-hewn churches of Lalibela. However, the rise in awareness in the need to protect Ethiopia’s natural environment, as well as the increasing demand of visitors who want to explore the country’s pristine wilderness and wildlife, is leading to an emergence of ecotourism in Ethiopia.However, sustainable travel to Ethiopia doesn’t mean having to avoid all of the things you’d like to do in the country: many of the tour operators promoting responsible tourism in the country take care to find a balance between combining visits to some of the most appealing cultural and historic attractions with activities such as bird-and-animal-watching and sustainable accommodation options.In order to travel to the country to explore the options for ecotourism, the majority of foreign nationals are first required to obtain a tourist visa for Ethiopia. Most foreign citizens are able to obtain an Ethiopia eVisa exclusively online, which allows a stay of up 90 days in the country. Eligible citizens are able to apply through the simple Ethiopia eVisa application online, eliminating the need to apply from an embassy or consulate.Ecotourism represents an approach to tourism that prioritizes the preservation of a country’s environment and culture, allowing for opportunities for visitors to experience aspects of the county’s ecology and natural conservation as well as its key archaeological, historical, and cultural sites. The aim of promoting ecotourism in Ethiopia is to ensure that visitors can gain insight and appreciation of the country, its geography, and its people, to understand how development affects the environment, as well as enjoying themselves on holiday.Ecotourism is also important as an educational tool for developing greater awareness about the need for environmental and cultural preservation among the native population, in order to promote cooperation in improving and restoring the country’s resources for future generations.The country is already working hard to ensure that ecotourism in Ethiopia continues to grow, including the development of a 10-year Sustainable Tourism Plan which covers the years 2015-2025. The plan aims to both continue the development of the tourism infrastructure as well as to focus on ways that tourism can help to alleviate poverty and provide benefits to the local community. One of the key ways the Ethiopian government hopes to achieve the latter is by getting locals more involved in the tourism industry, including hiring more community-based tour operators and supporting cultural handicraft cooperatives.There are a number of options for sustainable tourism in Ethiopia for visitors to the country. A range of tour operators based in the country offer a variety of guided tours with a focus on the environment, complete with sustainable accommodation options such as eco-lodges, many of which are constructed from natural materials taken from the surrounding environment.Examples of ecotourism tours in Ethiopia include hiking expeditions to the Simien Mountains in the north of the country close to the border with Eritrea, 10-20 day tours around the Omo Valley traditional villages, home to the ancient tribes of Ethiopia, and a variety of bird and animal watching tours centered around Ethiopia’s protected natural parks.Some of the most popular responsible tourism tours in Ethiopia include:Bahir Dar is a city on the shores of Lake Tana in the northeast of the country and capital of the Amhara region. A day tour of Bahir Dar takes in the stunning Blue Nile Falls and includes a boat tour of the lake and its central island, which boasts the ruins of ancient monasteries covered in impressive art. The tour also gives visitors the opportunity to buy local sustainable products such as traditional clothing and jewelry.This tour includes everything visitors can take in on a day tour of Bahir Dar, and also includes a trip to the Rock-Hewn Churches of Lalibela, one of the most popular World Heritage sites in Ethiopia. The huge site consists of 11 monolithic churches that date back to the 12th century and are carved into the area’s distinctive pink granite rock. The churches contain some of the best examples of early religious art in the country and some of Ethiopia’s most important religious artifacts.Located around 100 kilometers south of Addis Ababa, Lake Ziway is one of the freshwater Rift Valley lakes of Ethiopia and home to a diverse range of wildlife, most notably a large number of hippopotamuses. A day tour of the lake includes a boat ride with plenty of bird-watching opportunities and also the chance to visit the island church of Maryam Tsion, which is said to have once housed the Ark of the Covenant.Adventurous travelers may want to consider signing up for this 4-day hike through the desert in Ethiopia’s northwest. The tour allows visitors to observe caravans of camels framed against dramatic sunsets, watch workers cut bricks of salt from the shores of Lake Asale, take in the colorful geographical formations at Dalol, and view the spectacular volcanic eruptions at Lake Erta Alle. The only downside for some may be the fact that the tour involves 3 nights of camping, although the desert vistas certainly make up for the lack of home comforts.Ethiopia is one of the most incredible places to visit in Africa. Known as the ‘Cradle of Mankind’, it has a long and fascinating history, a rich and diverse culture, breathtaking landscapes, and a jaw-dropping range of wildlife.Though you may imagine Ethiopia being a hot, dry country which is uncomfortable to visit, this is simply not the case. Though on the fringes the temperatures can go above 86°F (30°C), Ethiopia enjoys a fairly mild climate with average temperatures of around 86°F (20°C), though this varies depending on altitude.Overall, the best time to travel to Ethiopia is the dry season (between October and June) as the highlands are green, lush, and perfect for hiking. Going during the wetter months is wet and humid but, on the other hand, is the cheapest time to go to Ethiopia. This handy guide will explain the pros and cons of going during the high, shoulder, and low seasons.Some of Ethiopìa’s most vibrant festivals, such as Timkat and Leddet, also fall during this time of year. The only activity you cannot do during these months is hiking in the Simien or Bale mountains.This is the ideal time to go hiking in the Simien mountains which are truly stunning. More adventurous visitors can also visit the Danakil Depression and the Great Rift Valley.Season: MonsoonAverage temperature (in Addis Ababa): 55-75°F (12-25°C)Average rainfall: 55-270 mmThis is the peak rainy season and it is a bad time to visit many parts of the country such as the Simien or Bale mountains. The lowlands can be hot, sticky, and uncomfortable including Addis Ababa.The major advantage of traveling during the low season is the price. Certain national parks such as the Omo and Mago Valley can be visited after July but many of the most popular national heritage sites and trekking routes are inaccessible.So, when is the perfect time to travel to Ethiopia? This depends on where you want to visit. It is best to avoid the rainy season but apart from this, the Ethiopian weather generally makes for an unforgettable adventure.Here are some recommendations for different regions…The highlands, north, east, and west: October to AprilThe south and Danakil: August to mid-October and mid-February to marchIf you plan to travel around Ethiopia, take clothing for hot and cooler temperatures they can vary greatly depending on the altitude and time of day.Anyone who has ever been to Ethiopia knows that time works differently there. Just like Ethiopia has its own language, Amharic, so too does it have its own calendar. For example, while most of the rest of the world celebrates the end of the year on December 31st, Ethiopian New Year falls on September 11th or 12th, depending on the year.Ethiopia uses a different calendar to the majority of the rest of the world, owing to a different calculation of the Biblical Annunciation to the Gregorian calendar.Ethiopians use the Incarnation Era to indicate the year, which places the Annunciation of the birth of Jesus on March 25, AD 9 in the Julian calendar.On the other hand, Europeans adopted a different calculation for the Annunciation which placed it eight years earlier, meaning that there exists a gap of 8 years between the start of the Ethiopian calendar and the Gregorian.The Ethiopian calendar is derived from the Egyptian solar calendar but adds a leap day every 4 years without exception. Like the Egyptian Coptic calendar, the Amharic calendar is comprised of 12 months of 30 days each, with an additional month of just 5 or 6 days, depending on the year. Ethiopian calendar months begin on the same days as Coptic calendar months but are instead named in Ge’ez, the ancient language of northern Ethiopia and southern Eritrea.If the differences between calenders all sound a bit confusing, don’t worry, there are plenty of Ethiopia calendar conversion services available online to help you figure out how the dating systems compare!The Amharic calendar determines the liturgical year for the major Christian denominations in Ethiopia and its neighbor Eritrea, meaning that many of the major universally-celebrated holidays fall on completely different days. For example, Christmas is celebrated on January 7th, which the Ethiopian Orthodox Church considers to be the day of Jesus’ birth.Eid al-Fitr, the Festival of Fast-breaking at the end of Ramadan in June, is widely celebrated in Ethiopia. However, the two biggest annual Ethiopian holidays take place much later in the year. Ethiopian holidays in September include Enkutatash (Ethiopian New Year) and Meskel, one of the most important religious festivals in the country.Ethiopian New Year usually falls on September 11th but falls on the 12th in years before the Gregorian leap year. Known as ‘Enkutatash’ in Amharic, the holiday marks 1 Meskerem or the first day in the Ethiopian calendar as well as the relative end of Ethiopia’s rainy season.Local legend also pegs it as the date when the historic Queen of Sheba returned to Ethiopia from her visit to King Solomon in Jerusalem. Her advisers apparently showered her with luxuries as a welcoming gift, hence the name Enkutatash, which means the ‘gift of jewels’ in Amharic.Ethiopian households all over the country light a huge bonfire and celebrate with singing and dancing, while young girls are encouraged to gather daisies and present bouquets to their friends. The largest religious celebration takes place in the Ragual Church on Entoto mountain near Addis Ababa, where thousands gather to pray together and take part in colorful and lively processions.An even bigger religious festival than Ethiopian New Year, the Meskel “True Cross” Celebration takes place on September 26th or 27th. Held annually in Meskel Square in Addis Ababa, the festival commemorates the supposed discovery of the “True Cross” on which Jesus was crucified.The legend goes that in 4BC, the Roman Empress Helena was able to locate the important artifact in Jerusalem by using the smoke from a huge fire. The celebration is especially important to Ethiopians as it’s alleged that a piece of the cross Helena discovered was brought to Ethiopia, and hidden away somewhere in the mountains of Amba Geshen.Ethiopians commemorate the find by building their own massive bonfire, the Meskel, which they decorate with yellow daisies before burning. Ethiopia’s religious leaders lead colorful processions and prayer around the fire, and attendees intently watch to see which way the bonfire will collapse, as it’s believed to predict the future.If you want to better understand the Ethiopian calendar and experience one of the major Ethiopian holidays in September for yourself, it’s a good idea to get the Ethiopia eVisa before traveling, in order to beat the inevitable border queues that form during this busy time of year.Currently, only citizens of Ethiopia’s neighbors Kenya and Djibouti can enter the country visa-free, for periods of a year and up to 3 months, respectively.To travel to Ethiopia and experience Ethiopian New Year and the other most important dates of the Amharic calendar, most travelers are required to either get an Ethiopia visa on arrival from Addis Ababa Bole International Airport or complete the simple Ethiopia eVisa application online. Many prefer the latter option, as getting the Ethiopia visa online before travel saves time and hassle of queuing at the border on arrival.The initial Ethiopia eVisa requirements involve having a passport valid for at least 6 months from the date of arrival in Ethiopia, as well as a valid credit and debit card to pay the visa fee. After completing the quick and easy application, it’s also required to supply the following:The simple form takes only minutes to complete, with most applications processed within 24 hours and at maximum within 3 working days. Although a single-entry visa, applicants for the Ethiopia eVisa can choose between either a 30-day or 90-day validity, allowing for the chance to experience more than one of the major holidays of the Ethiopian calendar.Set in the south of Ethiopia, you will find a unique and magnetic region: the Lower Omo Valley. What stands out most from the Omo Valley is the people that inhabit the region. Here, you will encounter villages of several fascinating and diverse ethnic groups.To visit the Omo Valley in Ethiopia, foreign nationals are required to obtain an Ethiopia online visa to enter the country. The only visa-exempt countries are Kenya and Djibouti. If you are considering visiting the Lower Omo Valley on your next vacation, be sure to check the Ethiopia eVisa requirements and complete the online application with your personal details. To successfully and quickly get this eVisa, you will need to provide your passport info on the Ethiopia eVisa application.The Lower Omo Valley is a dry savanna expanse set by the Omo River, an essential resource to all the tribes, many of which are situated along the river. These ancient tribes have been living in the valley for centuries. Human remains dating back 2.5 million years were discovered and the Omo Valley has been declared a Unesco World Heritage site due to its cultural and historical value.Yes, foreign travelers are able to visit several tribes situated in the region. However, it is important that you know that due to where these tribes are located, the trip might be costly and will require time. It is possible to explore the Omo Valley on a budget as it is also possible to visit different tribes with public transport, though this means that the trip will take longer.The Lower Omo Valley is home to dozens of ancient tribes. However, some of them are more recognizable and will be worth your time. The following tribes are considered as some of the most accessible and popular ones among tourists: Other tribes you might want to include on your itinerary are Arbore, Ari, Bashada, Meen, Tsamako, Tsemai and Turkana. Be sure to do some research about the tribes before planning the trip. Each tribe is very different from the other, from their clothing, to their traditions. Some of them are small, with a population of between 1,000 and 7,500 people. However, other tribes, like the Konso Tribe are quite large, with over 250,000 people.The amount of time you should spend exploring the tribes is entirely up to you. Be mindful that the Ethiopia eVisa can be valid for a 30-day or a 90-day stay, depending on what you choose on your application.You should also keep in mind the weather in Ethiopia as this can have an impact on your visit to the Omo Valley. Several roads in the area are not paved and to get to some tribes you will need to go through river beds and streams. Ideally, you should avoid rainy season which starts in March and lasts until late June. The best time to visit Ethiopia and the Omo Valley is between September and February, during dry season.There are several companies and tour agencies that can arrange visits to the tribes with a local guide. Even if you are traveling with a budget, at some point it will be a good idea to hire a jeep and a driver to visit some of the tribes. You can hire tour guides for the entire visit or only to go to a few of them.Tour guides do take care of several things that you will not need to worry about such as transportation and accommodation. If you have more of an adventurer spirit, it is possible to use public transport an arrange visits on your own. However, depending on the tribes you wish to visit, a tour guide could actually help you save time and money.Most accommodation in the Omo Valley is not available online. Therefore, if you do choose to not hire a tour company, you will need to find accommodation locally. It is essential that travelers are aware that they’re not going to find five-star hotels in the Omo Valley, but there are a places where they can sleep comfortably.Whether you decide to travel with a tour guide or not depends on how much time you want to spend exploring the Omo Valley. Before your trip, be sure to check the documents needed to travel to Ethiopia and the country’s entry requirements.Perhaps castles are not the first thing that comes to the traveler’s mind when thinking about Ethiopia, but this African country hides many surprises within its territory and tales of emperors and princesses are among them.One of such wonders is the city of Gondar. This enclave, also spelled Gonder, was home to Emperor Fasildas castle and the walled city of Fasil Ghebbi, now part of the UNESCO World Heritage List.However, before delving into entrancing Gondar, please be aware that all of those wishing to travel to Ethiopia must obtain a visa for Ethiopia. Thankfully, Ethiopian authorities launched the Ethiopian eVisa to accelerate this process. This travel authorization is quick and easy to get by completing the Ethiopian Online Visa application form.Many call Gondar ‘the Camelot of Africa’ but unlike Camelot, Gondar is a real city made out of royalty and blood and its history covers hundreds of years starting as early as the 12th century.Gondar was the seat of government for the Solomonic Dynasty (descended from the biblical Solomon and Sheba), throughout the 16th -18th century.Gondar’s fertile lands and strategic placement are a couple of the reasons why Emperor Fasiladas chose this location as his seat of power in 1636. As legend has it, he was led by a buffalo to a pool by the Angered. Once there, a wise hermit announced to the Emperor he would locate his capital there. And so did Fasilidas. He filled in the pool and built his castle right there.Emperor Fasiladas went on to build a total of 7 churches and the 5 emperors who succeded him followed suit by building even more churches and palaces, some of which still stand today.Nevertheless, the most famous of all the Gondar palaces is Fasil Ghebbi, built by Emperor Fasiladas.Towards the end of the 18th century, Gondar’s influence began to decline and 1769 marks the end of ‘the Gondar Period.’ From that point on, even though emperors continued to sit in Gondar, they barely held any power and local governors strated ruling each Ethiopian region.Gondar sits surrounded by hills and mountains that are populated by endemic flora and animals. The region is home to the Simien Mountains National Park and the tallest peak of Ethiopia, Ras Dejen (or Ras Dashen) at 4,550m.The Ethiopian castle notwisthanding, all of those who visit Gondar will have a hard time running out of interesting activities.Some must-see sights no one should miss are:Options abound whether you are traveling by air or by road.Daily flights connect Gondar to the airports of Addis Ababa, Lalibela, and Axum.There is a mid-sized airport in Gondar and Ethiopian Airlines operates daily flights to the city. You can also fly to and from Lalibela, but travelers should allow plenty of time if they have an international connection as flights are canceled or rescheduled on short notice on a regular basis.Most hotels offer a free airport transfer service, and taxis and vans are also available.Gondar is 355km southwest of Axum and fans of scenic routes will appreciate the amazing route through Simien Mountains National Park.Gondar covers a lot of ground but it is extremely walkable which makes strolling through its tin-roofed stone buildings a true delight.You can also find inexpensive taxis and minibusses that run through the city, as well as garis, the local horse-drawn taxis.If you like to enjoy outdoor activities and are after rainless, clear days with mild temperatures, you are better off visiting Gondar from mid-October to late April. Temperatures around those times are between 65°F and 80°F.However, if you love hot-weather activities and high temperatures don’t scare you away, you may want to travel to Gondar from mid-February to early May. That time of the year temperatures are between 80°- 90°F.Those who like to partake in local festivities shoud take the chance to travel to Gondar during Timkat, the Ethiopian Orthodox equivalent to Epiphany. It takes place on January 19 at Fasilides’ Bath and it reenecats the first baptism.Fans of cooler weather should know the cool season lasts from July to September an it averages temperatures below 71°F.To start planning your visit to Gondar, check the requirements for the Ethiopia eVisa to make sure you qualify and fill out the Ethiopia electronic visa application form online. It will save you time and hassle and once the flight has been booked you will be on your way to enjoying an African fairy tale.Axum (also spelled Aksum) in Ethiopia is possibly the greatest historical site that you’ve never heard of. The town was once the center of a great ancient civilization. Notable for its huge and iconic obelisks, it is rumored to have been the home of the Queen of Sheba and is believed by some to house the Ark of the Covenant. Axum is one of Ethiopia’s 9 World Heritage Sites. The easiest way to visit it and the other sites is with the Ethiopia eVisa. The eVisa is for nationals of any country who will be flying into Ethiopia’s Addis Ababa Bole International Airport. You just need to fill in the simple Ethiopia online visa application form and you should receive your electronic visa within 24 hours to your email account. The small town of Axum in the Tigray region is seen as the holiest city in Ethiopia and is home to the Church of Our Lady Mary of Zion, which according to Ethiopia’s Orthodox Church is where the Ark of the Covenant came to rest. In addition to this place of pilgrimage, the main attraction is what was the main city of the Axum empire. Axum dates back to the 1st century AD and saw its heyday in the 4th-7th centuries. The empire collapsed with the rise of Islam, as Muslim merchants closed off the Axum Empire trading routes across the Red Sea. Axum is one of the most popular tourist attractions in Ethiopia, its highlights include:But perhaps what Axum is best known for is the iconic obelisks known as steles. Some of these are up to 23 meters tall. They have come to be seen as a symbol of Ethiopia itself. The tallest of the obelisks was taken to Italy, and Ethiopia had long petitioned for its return. This was finally granted a few years ago and the return of the stele was greeted with much celebration.If you are thinking of visiting Axum then you may want to avoid Ethiopia’s rainy season, which is between May and September. It will also be chilly as Axum is 2,000 meters above sea level and is only warm when the sun is out.During the rest of the year, the sun is strong and the temperatures are high. For this reason, visitors should apply plenty of sunscreen and be sure to bring enough water. If you look at a map of Axum you can see that it is in the north of the country, close to the recently reopened Ethiopia/Eritrea border. The town is a 20-minute flight from Gondar and a 1-hour flight from Addis Ababa. Internal flights within Ethiopia are both frequent and cheap. It is also possible to travel from Gondar to Axum by bus, changing at the town of Shire. This is a long journey that will probably require that you overnight in Shire. The nearest major town to Axum is Mekele, which is about 4 hours away by bus.If you are traveling to Ethiopia and are interested in ancient history then Axum should be at the top of your list of places to visit. And if you will be flying into Addis Ababa Bole International Airport, then don’t forget to meet Ethiopia’s eVisa requirements and apply in advance.There is an incredible amount of things do do in Addis Ababa. Ethiopia’s exciting capital city is not just one of the most vibrant and eclectic cities in the country, it is often referred to as the capital of Africa.Its name translates to “new flower” in the Amharic language which reflects its youthful, lively charm and personality. Set in the breathtaking Ethiopian highlands, Addis Ababa is 2,665 meters above sea level, which makes the weather a little cool but very pleasant. Visitors can enjoy the city at any time of the year.Planning a trip to Ethiopia’s capital can be overwhelming as there is so much to see. To help you plan your trip, we’ve compiled a list of the most interesting things to see in Addis Ababa.There is an exciting range of fascinating things to do in Addis Ababa including churches, markets, and fascinating museums. You can also find some of the world’s best coffee and  mouthwatering range of local and international restaurants and food stalls.Mercato is the biggest outdoor market in Africa. It’s vast and you can find anything there, including some stunning artisan, handmade crafts, a sensational range of spices, and some absolute bargains. 90 tribes of Ethiopia are represented at the market which makes the experience even more fascinating.Mount Entoto offers jaw dropping, panoramic views of Addis Ababa’s magnificent scenery. It’s 3,200 meters above sea level the eucalyptus tree forest makes it perfect for hiking. There are also two of the country’s oldest churches there: St. Raguel (Elias) and St. Mary of Entoto.Medhane Alem is the biggest church in Addis Ababa (and the second largest cathedral in Africa!). Its name means “Saviour of the World” and the building itself is fairly modern. The white and yellow structure has some beautiful domes and the colorful interior features frescoes of saints and stained glass windows.St. George’s Cathedral is the most iconic place of worship in Addis Ababa. It’s set on the top of a hill and is famous for its stunning stained glass windows and its grand imperial throne. There is also a museum just a short stroll away which is filled with paintings of scenes from the Bible and from Ethiopian history.Many visitors say the National Museum of Ethiopia is one of the best museums in the country and one of the best things to do in Addis Ababa. The museum contains thousands of items and there is a fantastic range of displays. Some of the highlights include the statues of Axum, the model of “Lucy”, and remains of the very early humans.Meskel Square is the capital’s main meeting point. There are regular events which are popular with both visitors and locals and there are a few museums there which are worth a visit. One of them is the Red Terror Martyrs Memorial Museum which documents the violent period of suffering in the 1970s.Ethiopia’s cities contain a wealth of exciting attractions and festivities for tourists to explore, such as the unique Meskel True Cross celebration in Addis Ababa. However, to really delve into the culture and history, visitors should head to the countryside to explore some of the many stunning World Heritage attractions in Ethiopia.Many of these protected locations not only contain clues to decipher Ethiopia’s past, but also to help us understand the history of the entire world and our evolution as a species. In order to travel to Ethiopia and discover the impressive UNESCO heritage sites, most foreign nationalities require a visa for Ethiopia to enter the country.There are a total of 9 UNESCO World Heritage attractions in Ethiopia, 8 cultural sites and one natural conservation area, the Simien National Park, home to a range of native endangered animals such as the Gelada baboon and the Ethiopian wolf. The most impressive Ethiopian World Heritage sites are scattered along the central length of the country, from the ancient ruins of Axum in the north to the Omo Valley archeological sites in the south.Located close to Ethiopìa’s recently reopened border with Eritrea in the extreme north of the country, these ancient ruins represent the last remains of the powerful Aksumite kingdom, which dominated the area from the 1st to the 8th centuries AD. Alternatively known as Aksum, this impressive Ethiopian World Heritage site boasts a variety of intriguing artifacts, most notably the towering monolithic obelisks (up to 23 meters high) that dominate the area.Many tourists visit Aksum in search of the Ark of the Covenant, the Biblical artifact which is said to have been brought to Ethiopia by the son of the Queen of Sheba and held under guard near the Church of Our Lady Mary of Zion in this ancient city.Why visit Gondar? Nicknamed ‘the Camelot of Ethiopia’, this city near Lake Tana in the northwest is home to the ruins of the fortress-city of Fasil Ghebbi, the residence of Ethiopia’s emperors during the 16th and 17th centuries.The compound is surrounded by an ancient 900 meter-long wall and boasts the well-preserved remains of various royal castles in the unique Nubian style. Visitors often feel as though they’ve been transported back to Medieval Europe (without leaving Africa!).One of the first World Heritage sites in Ethiopia to be added to the UNESCO list, in 1978, the rock-cut churches of Lalibela can be found close to this holy city in the north of Ethiopia. This series of jaw-dropping monolithic churches were carved directly into a rocky cliff face between the 12th and 13th century.The Lalibela churches are considered a place of holy pilgrimage in Ethiopia, and visitors should at least pay a visit to St. George’s Cathedral, the best-preserved specimen, which is said to have been built on orders from none other than God himself.Found close to the border with Somalia in the east of the country, this sacred holy city is surrounded by 13-century fortified walls and boasts over 82 mosques, 3 of which date back as far as the 10th century. However, this historic city really earns its World Heritage site status through the intricately designed merchant townhouses that reflects the diversity of this long-time trading post.Don’t leave Harar without visiting the cultural center dedicated to famous French poet Arthur Rimbaud, who once made his home in the city, or attending a night-time hyena feeding show just outside the ancient walls.The Lower Awash Valley, around 300 kilometers north of Addis Ababa, is one of the most important UNESCO World Heritage sites in Ethiopia. Some of the most significant paleoanthropological discoveries on the African continent have been made in the area, some dating back as much as 3 million years.These include the unearthing of the bones of Lucy, an early human whose discovery has greatly boosted theories of evolution. A replica of Lucy’s skeleton can now be seen in the National Museum of Ethiopia in Addis Ababa, but it’s worth paying a visit to the site anyway to explore the ongoing excavations. You might even find a fossil or two yourself.Just a two-hour drive south of Addis Ababa, this Ethiopian World Heritage attraction could give the famous Stonehenge in England a run for its money.It’s home to the Tiya megaliths of Ethiopia, a series of standing stones carved with cryptic symbols attributed to an ancient Ethiopian civilization. Although presumed to be of funerary significance, these stone structures remain a mystery, so it’s fun to visit to try to figure out what they mean for yourself.If you’ve ever been curious about experiencing a completely different way of life to much of the western world, then the Lower Omo Valley is a must visit in Ethiopia. It’s home to a variety of indigenous tribes, and visitors can take a tour of the traditional settlements and get to know the local customs.This UNESCO World Heritage attraction also includes the Konso and Fejej paleontological research locations, where ancient stone tools and fossils supporting theories of human evolution have also been uncovered.Whereas many of the UNESCO World Heritage sites in Ethiopia are remnants of the country’s distant past, visitors can experience real living history at the Konso Cultural Landscape. This 55km2 area in the far south of Ethiopia, near the border with Kenya, is full of striking traditional villages built on extensive dry stone terraces used for agriculture, a living cultural tradition that stretches back over 400 years and 21 generations.One of the standout features of the area is the daga-hela, large stone megaliths that continue to be constructed and used in rituals by the native Konso tribespeople, as well as the waka, anthropomorphic wooden statues the Konso erect to commemorate the deceased.If you feel like exploring these incredible World Heritage attractions in Ethiopia, don’t forget to first check if you require a tourist visa for Ethiopia before your trip.\n"
     ]
    }
   ],
   "source": [
    "# Python program to convert a list to string \n",
    "# Using list comprehension  \n",
    "\n",
    "corpus = ''.join([str(elem) for elem in metadata])  \n",
    "print(corpus)  "
   ]
  },
  {
   "cell_type": "markdown",
   "metadata": {
    "colab_type": "text",
    "id": "CW__K8qev9mw"
   },
   "source": [
    "---\n",
    "# **Phase Three:** Question and Answering"
   ]
  },
  {
   "cell_type": "markdown",
   "metadata": {
    "colab_type": "text",
    "id": "3aU1bNK7wn5b"
   },
   "source": [
    "**AllenNLP** is a pythone framework that makes the task of building Deep Learning models for Natural Language Processing something really enjoyable."
   ]
  },
  {
   "cell_type": "code",
   "execution_count": 25,
   "metadata": {
    "colab": {
     "base_uri": "https://localhost:8080/",
     "height": 1000
    },
    "colab_type": "code",
    "id": "tJDamuwpUflg",
    "outputId": "862bcaf0-cc08-49ca-b2a9-3181cc69d567"
   },
   "outputs": [
    {
     "name": "stdout",
     "output_type": "stream",
     "text": [
      "Collecting allennlp\n",
      "\u001b[?25l  Downloading https://files.pythonhosted.org/packages/bb/bb/041115d8bad1447080e5d1e30097c95e4b66e36074277afce8620a61cee3/allennlp-0.9.0-py3-none-any.whl (7.6MB)\n",
      "\u001b[K     |████████████████████████████████| 7.6MB 2.5MB/s \n",
      "\u001b[?25hCollecting pytorch-pretrained-bert>=0.6.0\n",
      "\u001b[?25l  Downloading https://files.pythonhosted.org/packages/d7/e0/c08d5553b89973d9a240605b9c12404bcf8227590de62bae27acbcfe076b/pytorch_pretrained_bert-0.6.2-py3-none-any.whl (123kB)\n",
      "\u001b[K     |████████████████████████████████| 133kB 41.4MB/s \n",
      "\u001b[?25hRequirement already satisfied: gevent>=1.3.6 in /usr/local/lib/python3.6/dist-packages (from allennlp) (1.4.0)\n",
      "Requirement already satisfied: matplotlib>=2.2.3 in /usr/local/lib/python3.6/dist-packages (from allennlp) (3.1.2)\n",
      "Collecting jsonpickle\n",
      "  Downloading https://files.pythonhosted.org/packages/07/07/c157520a3ebd166c8c24c6ae0ecae7c3968eb4653ff0e5af369bb82f004d/jsonpickle-1.2-py2.py3-none-any.whl\n",
      "Collecting responses>=0.7\n",
      "  Downloading https://files.pythonhosted.org/packages/3e/0c/940781dd49710f4b1f0650c450c9fd8491db0e1bffd99ebc36355607f96d/responses-0.10.9-py2.py3-none-any.whl\n",
      "Collecting unidecode\n",
      "\u001b[?25l  Downloading https://files.pythonhosted.org/packages/d0/42/d9edfed04228bacea2d824904cae367ee9efd05e6cce7ceaaedd0b0ad964/Unidecode-1.1.1-py2.py3-none-any.whl (238kB)\n",
      "\u001b[K     |████████████████████████████████| 245kB 35.6MB/s \n",
      "\u001b[?25hRequirement already satisfied: h5py in /usr/local/lib/python3.6/dist-packages (from allennlp) (2.8.0)\n",
      "Collecting pytorch-transformers==1.1.0\n",
      "\u001b[?25l  Downloading https://files.pythonhosted.org/packages/50/89/ad0d6bb932d0a51793eaabcf1617a36ff530dc9ab9e38f765a35dc293306/pytorch_transformers-1.1.0-py3-none-any.whl (158kB)\n",
      "\u001b[K     |████████████████████████████████| 163kB 52.2MB/s \n",
      "\u001b[?25hRequirement already satisfied: scipy in /usr/local/lib/python3.6/dist-packages (from allennlp) (1.3.3)\n",
      "Collecting overrides\n",
      "  Downloading https://files.pythonhosted.org/packages/ac/98/2430afd204c48ac0a529d439d7e22df8fa603c668d03456b5947cb59ec36/overrides-2.7.0.tar.gz\n",
      "Requirement already satisfied: scikit-learn in /usr/local/lib/python3.6/dist-packages (from allennlp) (0.21.3)\n",
      "Requirement already satisfied: boto3 in /usr/local/lib/python3.6/dist-packages (from allennlp) (1.10.40)\n",
      "Requirement already satisfied: numpy in /usr/local/lib/python3.6/dist-packages (from allennlp) (1.17.4)\n",
      "Requirement already satisfied: flask>=1.0.2 in /usr/local/lib/python3.6/dist-packages (from allennlp) (1.1.1)\n",
      "Collecting flask-cors>=3.0.7\n",
      "  Downloading https://files.pythonhosted.org/packages/78/38/e68b11daa5d613e3a91e4bf3da76c94ac9ee0d9cd515af9c1ab80d36f709/Flask_Cors-3.0.8-py2.py3-none-any.whl\n",
      "Collecting tensorboardX>=1.2\n",
      "\u001b[?25l  Downloading https://files.pythonhosted.org/packages/a6/5c/e918d9f190baab8d55bad52840d8091dd5114cc99f03eaa6d72d404503cc/tensorboardX-1.9-py2.py3-none-any.whl (190kB)\n",
      "\u001b[K     |████████████████████████████████| 194kB 47.1MB/s \n",
      "\u001b[?25hCollecting conllu==1.3.1\n",
      "  Downloading https://files.pythonhosted.org/packages/ae/54/b0ae1199f3d01666821b028cd967f7c0ac527ab162af433d3da69242cea2/conllu-1.3.1-py2.py3-none-any.whl\n",
      "Collecting ftfy\n",
      "\u001b[?25l  Downloading https://files.pythonhosted.org/packages/75/ca/2d9a5030eaf1bcd925dab392762b9709a7ad4bd486a90599d93cd79cb188/ftfy-5.6.tar.gz (58kB)\n",
      "\u001b[K     |████████████████████████████████| 61kB 7.6MB/s \n",
      "\u001b[?25hCollecting word2number>=1.1\n",
      "  Downloading https://files.pythonhosted.org/packages/4a/29/a31940c848521f0725f0df6b25dca8917f13a2025b0e8fcbe5d0457e45e6/word2number-1.1.zip\n",
      "Collecting flaky\n",
      "  Downloading https://files.pythonhosted.org/packages/fe/12/0f169abf1aa07c7edef4855cca53703d2e6b7ecbded7829588ac7e7e3424/flaky-3.6.1-py2.py3-none-any.whl\n",
      "Requirement already satisfied: torch>=1.2.0 in /usr/local/lib/python3.6/dist-packages (from allennlp) (1.3.1)\n",
      "Requirement already satisfied: pytest in /usr/local/lib/python3.6/dist-packages (from allennlp) (3.6.4)\n",
      "Collecting jsonnet>=0.10.0; sys_platform != \"win32\"\n",
      "\u001b[?25l  Downloading https://files.pythonhosted.org/packages/fe/a6/e69e38f1f259fcf8532d8bd2c4bc88764f42d7b35a41423a7f4b035cc5ce/jsonnet-0.14.0.tar.gz (253kB)\n",
      "\u001b[K     |████████████████████████████████| 256kB 53.1MB/s \n",
      "\u001b[?25hRequirement already satisfied: spacy<2.2,>=2.1.0 in /usr/local/lib/python3.6/dist-packages (from allennlp) (2.1.9)\n",
      "Requirement already satisfied: nltk in /usr/local/lib/python3.6/dist-packages (from allennlp) (3.2.5)\n",
      "Collecting numpydoc>=0.8.0\n",
      "  Downloading https://files.pythonhosted.org/packages/b0/70/4d8c3f9f6783a57ac9cc7a076e5610c0cc4a96af543cafc9247ac307fbfe/numpydoc-0.9.2.tar.gz\n",
      "Requirement already satisfied: sqlparse>=0.2.4 in /usr/local/lib/python3.6/dist-packages (from allennlp) (0.3.0)\n",
      "Collecting parsimonious>=0.8.0\n",
      "\u001b[?25l  Downloading https://files.pythonhosted.org/packages/02/fc/067a3f89869a41009e1a7cdfb14725f8ddd246f30f63c645e8ef8a1c56f4/parsimonious-0.8.1.tar.gz (45kB)\n",
      "\u001b[K     |████████████████████████████████| 51kB 5.5MB/s \n",
      "\u001b[?25hRequirement already satisfied: requests>=2.18 in /usr/local/lib/python3.6/dist-packages (from allennlp) (2.21.0)\n",
      "Requirement already satisfied: pytz>=2017.3 in /usr/local/lib/python3.6/dist-packages (from allennlp) (2018.9)\n",
      "Requirement already satisfied: editdistance in /usr/local/lib/python3.6/dist-packages (from allennlp) (0.5.3)\n",
      "Requirement already satisfied: tqdm>=4.19 in /usr/local/lib/python3.6/dist-packages (from allennlp) (4.28.1)\n",
      "Requirement already satisfied: regex in /usr/local/lib/python3.6/dist-packages (from pytorch-pretrained-bert>=0.6.0->allennlp) (2019.12.9)\n",
      "Requirement already satisfied: greenlet>=0.4.14; platform_python_implementation == \"CPython\" in /usr/local/lib/python3.6/dist-packages (from gevent>=1.3.6->allennlp) (0.4.15)\n",
      "Requirement already satisfied: python-dateutil>=2.1 in /usr/local/lib/python3.6/dist-packages (from matplotlib>=2.2.3->allennlp) (2.6.1)\n",
      "Requirement already satisfied: pyparsing!=2.0.4,!=2.1.2,!=2.1.6,>=2.0.1 in /usr/local/lib/python3.6/dist-packages (from matplotlib>=2.2.3->allennlp) (2.4.5)\n",
      "Requirement already satisfied: cycler>=0.10 in /usr/local/lib/python3.6/dist-packages (from matplotlib>=2.2.3->allennlp) (0.10.0)\n",
      "Requirement already satisfied: kiwisolver>=1.0.1 in /usr/local/lib/python3.6/dist-packages (from matplotlib>=2.2.3->allennlp) (1.1.0)\n",
      "Requirement already satisfied: six in /usr/local/lib/python3.6/dist-packages (from responses>=0.7->allennlp) (1.12.0)\n",
      "Collecting sentencepiece\n",
      "\u001b[?25l  Downloading https://files.pythonhosted.org/packages/74/f4/2d5214cbf13d06e7cb2c20d84115ca25b53ea76fa1f0ade0e3c9749de214/sentencepiece-0.1.85-cp36-cp36m-manylinux1_x86_64.whl (1.0MB)\n",
      "\u001b[K     |████████████████████████████████| 1.0MB 51.1MB/s \n",
      "\u001b[?25hRequirement already satisfied: joblib>=0.11 in /usr/local/lib/python3.6/dist-packages (from scikit-learn->allennlp) (0.14.1)\n",
      "Requirement already satisfied: s3transfer<0.3.0,>=0.2.0 in /usr/local/lib/python3.6/dist-packages (from boto3->allennlp) (0.2.1)\n",
      "Requirement already satisfied: botocore<1.14.0,>=1.13.40 in /usr/local/lib/python3.6/dist-packages (from boto3->allennlp) (1.13.40)\n",
      "Requirement already satisfied: jmespath<1.0.0,>=0.7.1 in /usr/local/lib/python3.6/dist-packages (from boto3->allennlp) (0.9.4)\n",
      "Requirement already satisfied: itsdangerous>=0.24 in /usr/local/lib/python3.6/dist-packages (from flask>=1.0.2->allennlp) (1.1.0)\n",
      "Requirement already satisfied: click>=5.1 in /usr/local/lib/python3.6/dist-packages (from flask>=1.0.2->allennlp) (7.0)\n",
      "Requirement already satisfied: Werkzeug>=0.15 in /usr/local/lib/python3.6/dist-packages (from flask>=1.0.2->allennlp) (0.16.0)\n",
      "Requirement already satisfied: Jinja2>=2.10.1 in /usr/local/lib/python3.6/dist-packages (from flask>=1.0.2->allennlp) (2.10.3)\n",
      "Requirement already satisfied: protobuf>=3.8.0 in /usr/local/lib/python3.6/dist-packages (from tensorboardX>=1.2->allennlp) (3.10.0)\n",
      "Requirement already satisfied: wcwidth in /usr/local/lib/python3.6/dist-packages (from ftfy->allennlp) (0.1.7)\n",
      "Requirement already satisfied: more-itertools>=4.0.0 in /usr/local/lib/python3.6/dist-packages (from pytest->allennlp) (8.0.2)\n",
      "Requirement already satisfied: atomicwrites>=1.0 in /usr/local/lib/python3.6/dist-packages (from pytest->allennlp) (1.3.0)\n",
      "Requirement already satisfied: setuptools in /usr/local/lib/python3.6/dist-packages (from pytest->allennlp) (42.0.2)\n",
      "Requirement already satisfied: pluggy<0.8,>=0.5 in /usr/local/lib/python3.6/dist-packages (from pytest->allennlp) (0.7.1)\n",
      "Requirement already satisfied: py>=1.5.0 in /usr/local/lib/python3.6/dist-packages (from pytest->allennlp) (1.8.0)\n",
      "Requirement already satisfied: attrs>=17.4.0 in /usr/local/lib/python3.6/dist-packages (from pytest->allennlp) (19.3.0)\n",
      "Requirement already satisfied: cymem<2.1.0,>=2.0.2 in /usr/local/lib/python3.6/dist-packages (from spacy<2.2,>=2.1.0->allennlp) (2.0.3)\n",
      "Requirement already satisfied: plac<1.0.0,>=0.9.6 in /usr/local/lib/python3.6/dist-packages (from spacy<2.2,>=2.1.0->allennlp) (0.9.6)\n",
      "Requirement already satisfied: preshed<2.1.0,>=2.0.1 in /usr/local/lib/python3.6/dist-packages (from spacy<2.2,>=2.1.0->allennlp) (2.0.1)\n",
      "Requirement already satisfied: srsly<1.1.0,>=0.0.6 in /usr/local/lib/python3.6/dist-packages (from spacy<2.2,>=2.1.0->allennlp) (0.2.0)\n",
      "Requirement already satisfied: wasabi<1.1.0,>=0.2.0 in /usr/local/lib/python3.6/dist-packages (from spacy<2.2,>=2.1.0->allennlp) (0.4.2)\n",
      "Requirement already satisfied: thinc<7.1.0,>=7.0.8 in /usr/local/lib/python3.6/dist-packages (from spacy<2.2,>=2.1.0->allennlp) (7.0.8)\n",
      "Requirement already satisfied: blis<0.3.0,>=0.2.2 in /usr/local/lib/python3.6/dist-packages (from spacy<2.2,>=2.1.0->allennlp) (0.2.4)\n",
      "Requirement already satisfied: murmurhash<1.1.0,>=0.28.0 in /usr/local/lib/python3.6/dist-packages (from spacy<2.2,>=2.1.0->allennlp) (1.0.2)\n",
      "Requirement already satisfied: sphinx>=1.6.5 in /usr/local/lib/python3.6/dist-packages (from numpydoc>=0.8.0->allennlp) (1.8.5)\n",
      "Requirement already satisfied: chardet<3.1.0,>=3.0.2 in /usr/local/lib/python3.6/dist-packages (from requests>=2.18->allennlp) (3.0.4)\n",
      "Requirement already satisfied: certifi>=2017.4.17 in /usr/local/lib/python3.6/dist-packages (from requests>=2.18->allennlp) (2019.11.28)\n",
      "Requirement already satisfied: idna<2.9,>=2.5 in /usr/local/lib/python3.6/dist-packages (from requests>=2.18->allennlp) (2.8)\n",
      "Requirement already satisfied: urllib3<1.25,>=1.21.1 in /usr/local/lib/python3.6/dist-packages (from requests>=2.18->allennlp) (1.24.3)\n",
      "Requirement already satisfied: docutils<0.16,>=0.10 in /usr/local/lib/python3.6/dist-packages (from botocore<1.14.0,>=1.13.40->boto3->allennlp) (0.15.2)\n",
      "Requirement already satisfied: MarkupSafe>=0.23 in /usr/local/lib/python3.6/dist-packages (from Jinja2>=2.10.1->flask>=1.0.2->allennlp) (1.1.1)\n",
      "Requirement already satisfied: snowballstemmer>=1.1 in /usr/local/lib/python3.6/dist-packages (from sphinx>=1.6.5->numpydoc>=0.8.0->allennlp) (2.0.0)\n",
      "Requirement already satisfied: Pygments>=2.0 in /usr/local/lib/python3.6/dist-packages (from sphinx>=1.6.5->numpydoc>=0.8.0->allennlp) (2.1.3)\n",
      "Requirement already satisfied: imagesize in /usr/local/lib/python3.6/dist-packages (from sphinx>=1.6.5->numpydoc>=0.8.0->allennlp) (1.1.0)\n",
      "Requirement already satisfied: alabaster<0.8,>=0.7 in /usr/local/lib/python3.6/dist-packages (from sphinx>=1.6.5->numpydoc>=0.8.0->allennlp) (0.7.12)\n",
      "Requirement already satisfied: sphinxcontrib-websupport in /usr/local/lib/python3.6/dist-packages (from sphinx>=1.6.5->numpydoc>=0.8.0->allennlp) (1.1.2)\n",
      "Requirement already satisfied: babel!=2.0,>=1.3 in /usr/local/lib/python3.6/dist-packages (from sphinx>=1.6.5->numpydoc>=0.8.0->allennlp) (2.7.0)\n",
      "Requirement already satisfied: packaging in /usr/local/lib/python3.6/dist-packages (from sphinx>=1.6.5->numpydoc>=0.8.0->allennlp) (19.2)\n",
      "Building wheels for collected packages: overrides, ftfy, word2number, jsonnet, numpydoc, parsimonious\n",
      "  Building wheel for overrides (setup.py) ... \u001b[?25l\u001b[?25hdone\n",
      "  Created wheel for overrides: filename=overrides-2.7.0-cp36-none-any.whl size=5600 sha256=f2c09fa14306700fd18f5982fb46bced01c64695648aeea40ff657ad0b759b73\n",
      "  Stored in directory: /root/.cache/pip/wheels/8c/7c/ef/80508418b67d87371c5b3de49e03eb22ee7c1d19affb5099f8\n",
      "  Building wheel for ftfy (setup.py) ... \u001b[?25l\u001b[?25hdone\n",
      "  Created wheel for ftfy: filename=ftfy-5.6-cp36-none-any.whl size=44553 sha256=641c84cef81087c98391576129fb804c44d5692790d03b34c0fc1cb7ea8fdad5\n",
      "  Stored in directory: /root/.cache/pip/wheels/43/34/ce/cbb38d71543c408de56f3c5e26ce8ba495a0fa5a28eaaf1046\n",
      "  Building wheel for word2number (setup.py) ... \u001b[?25l\u001b[?25hdone\n",
      "  Created wheel for word2number: filename=word2number-1.1-cp36-none-any.whl size=5588 sha256=3ee9eaf74a32f811e3d7cd1262ef0f388b9c1e887303c9e4941b4061b649d2b2\n",
      "  Stored in directory: /root/.cache/pip/wheels/46/2f/53/5f5c1d275492f2fce1cdab9a9bb12d49286dead829a4078e0e\n",
      "  Building wheel for jsonnet (setup.py) ... \u001b[?25l\u001b[?25hdone\n",
      "  Created wheel for jsonnet: filename=jsonnet-0.14.0-cp36-cp36m-linux_x86_64.whl size=3320384 sha256=867adbc286d263f8591a561a8655c40e2046a24d2805e7bb273e6408a5a5e3d8\n",
      "  Stored in directory: /root/.cache/pip/wheels/5b/b7/83/985f0f758fbb34f14989a0fab86d18890d1cc5ae12f26967bc\n",
      "  Building wheel for numpydoc (setup.py) ... \u001b[?25l\u001b[?25hdone\n",
      "  Created wheel for numpydoc: filename=numpydoc-0.9.2-cp36-none-any.whl size=31894 sha256=fab8346f2b3eb0a91a05a1def57779c074376379011f461f7ffcbfb337d18944\n",
      "  Stored in directory: /root/.cache/pip/wheels/96/f3/52/25c8e1f40637661d27feebc61dae16b84c7cdd93b8bc3d7486\n",
      "  Building wheel for parsimonious (setup.py) ... \u001b[?25l\u001b[?25hdone\n",
      "  Created wheel for parsimonious: filename=parsimonious-0.8.1-cp36-none-any.whl size=42709 sha256=e15724ae2345322b7c11c6a6824ede0b9875e5db7b765b94541cc1a889120b06\n",
      "  Stored in directory: /root/.cache/pip/wheels/b7/8d/e7/a0e74217da5caeb3c1c7689639b6d28ddbf9985b840bc96a9a\n",
      "Successfully built overrides ftfy word2number jsonnet numpydoc parsimonious\n",
      "Installing collected packages: pytorch-pretrained-bert, jsonpickle, responses, unidecode, sentencepiece, pytorch-transformers, overrides, flask-cors, tensorboardX, conllu, ftfy, word2number, flaky, jsonnet, numpydoc, parsimonious, allennlp\n",
      "Successfully installed allennlp-0.9.0 conllu-1.3.1 flaky-3.6.1 flask-cors-3.0.8 ftfy-5.6 jsonnet-0.14.0 jsonpickle-1.2 numpydoc-0.9.2 overrides-2.7.0 parsimonious-0.8.1 pytorch-pretrained-bert-0.6.2 pytorch-transformers-1.1.0 responses-0.10.9 sentencepiece-0.1.85 tensorboardX-1.9 unidecode-1.1.1 word2number-1.1\n"
     ]
    }
   ],
   "source": [
    "pip install allennlp"
   ]
  },
  {
   "cell_type": "markdown",
   "metadata": {
    "colab_type": "text",
    "id": "Syxp49MVw9Ah"
   },
   "source": [
    "**Predictor** is a thin wrapper around an AllenNLP model that handles JSON -> JSON predictions that can be used for serving models through the web API or making predictions in bulk"
   ]
  },
  {
   "cell_type": "code",
   "execution_count": 26,
   "metadata": {
    "colab": {
     "base_uri": "https://localhost:8080/",
     "height": 122
    },
    "colab_type": "code",
    "id": "vPDSZJzmd0Vf",
    "outputId": "46ddceb5-e28d-4534-95dd-7320e90fbbfe"
   },
   "outputs": [
    {
     "name": "stderr",
     "output_type": "stream",
     "text": [
      "100%|██████████| 46175392/46175392 [00:03<00:00, 12096705.84B/s]\n",
      "/usr/local/lib/python3.6/dist-packages/torch/nn/modules/rnn.py:51: UserWarning: dropout option adds dropout after all but last recurrent layer, so non-zero dropout expects num_layers greater than 1, but got dropout=0.2 and num_layers=1\n",
      "  \"num_layers={}\".format(dropout, num_layers))\n",
      "/usr/local/lib/python3.6/dist-packages/allennlp/data/token_indexers/token_characters_indexer.py:56: UserWarning: You are using the default value (0) of `min_padding_length`, which can cause some subtle bugs (more info see https://github.com/allenai/allennlp/issues/1954). Strongly recommend to set a value, usually the maximum size of the convolutional layer size when using CnnEncoder.\n",
      "  UserWarning)\n"
     ]
    }
   ],
   "source": [
    "from allennlp.predictors.predictor import Predictor\n",
    "predictor = Predictor.from_path(\"https://s3-us-west-2.amazonaws.com/allennlp/models/bidaf-model-2017.09.15-charpad.tar.gz\")"
   ]
  },
  {
   "cell_type": "code",
   "execution_count": 0,
   "metadata": {
    "colab": {},
    "colab_type": "code",
    "id": "U6AtqpwiVEWY"
   },
   "outputs": [],
   "source": [
    "#sample questions\n",
    "\n",
    "\"\"\"\n",
    "Interesting things to see in Addis Ababa?\n",
    "where is a dramatic wilderness in the north of Ethiopia?\n",
    "what is The first step to visiting Simien Mountains?\n",
    "when the national park is open?\n",
    "Do I Need a Tour Guide to Visit the Omo Valley?\n",
    "which time the national park is open?\n",
    "which one is the best museums in Ethiopia?\n",
    "is there any flights from Gondar?\n",
    "Where is the greatest historical site in Ethiopia?\n",
    "\"\"\"\n",
    "\n",
    "result=predictor.predict(\n",
    "  passage=corpus,\n",
    "# question=\"Where is the greatest historical site in Ethiopia?\"\n",
    "  question = input(\"\\033[3;36;47m Question: \")\n",
    ")\n",
    "result['best_span_str']"
   ]
  }
 ],
 "metadata": {
  "colab": {
   "collapsed_sections": [],
   "name": "Assignment Q&A.ipynb",
   "provenance": [],
   "toc_visible": true
  },
  "kernelspec": {
   "display_name": "Python 3",
   "language": "python",
   "name": "python3"
  },
  "language_info": {
   "codemirror_mode": {
    "name": "ipython",
    "version": 3
   },
   "file_extension": ".py",
   "mimetype": "text/x-python",
   "name": "python",
   "nbconvert_exporter": "python",
   "pygments_lexer": "ipython3",
   "version": "3.8.1"
  }
 },
 "nbformat": 4,
 "nbformat_minor": 1
}
